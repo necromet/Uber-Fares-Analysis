{
 "cells": [
  {
   "cell_type": "code",
   "execution_count": 2,
   "id": "f8e0a5cc",
   "metadata": {},
   "outputs": [
    {
     "data": {
      "application/vnd.microsoft.datawrangler.viewer.v0+json": {
       "columns": [
        {
         "name": "index",
         "rawType": "int64",
         "type": "integer"
        },
        {
         "name": "fare_id",
         "rawType": "int64",
         "type": "integer"
        },
        {
         "name": "key",
         "rawType": "object",
         "type": "string"
        },
        {
         "name": "fare_amount",
         "rawType": "float64",
         "type": "float"
        },
        {
         "name": "pickup_datetime",
         "rawType": "object",
         "type": "string"
        },
        {
         "name": "pickup_longitude",
         "rawType": "float64",
         "type": "float"
        },
        {
         "name": "pickup_latitude",
         "rawType": "float64",
         "type": "float"
        },
        {
         "name": "dropoff_longitude",
         "rawType": "float64",
         "type": "float"
        },
        {
         "name": "dropoff_latitude",
         "rawType": "float64",
         "type": "float"
        },
        {
         "name": "passenger_count",
         "rawType": "int64",
         "type": "integer"
        },
        {
         "name": "pickup_latitude_rounded",
         "rawType": "float64",
         "type": "float"
        },
        {
         "name": "pickup_longitude_rounded",
         "rawType": "float64",
         "type": "float"
        },
        {
         "name": "haversine_distance",
         "rawType": "float64",
         "type": "float"
        },
        {
         "name": "pickup_year",
         "rawType": "int64",
         "type": "integer"
        },
        {
         "name": "pickup_month",
         "rawType": "int64",
         "type": "integer"
        },
        {
         "name": "pickup_day",
         "rawType": "int64",
         "type": "integer"
        },
        {
         "name": "pickup_hour",
         "rawType": "int64",
         "type": "integer"
        },
        {
         "name": "pickup_minute",
         "rawType": "int64",
         "type": "integer"
        },
        {
         "name": "pickup_dayofweek",
         "rawType": "int64",
         "type": "integer"
        },
        {
         "name": "pickup_dayofweek_label",
         "rawType": "object",
         "type": "string"
        },
        {
         "name": "fare_per_passenger",
         "rawType": "float64",
         "type": "float"
        }
       ],
       "ref": "401491af-2857-46db-8be3-d585b4a17bd1",
       "rows": [
        [
         "0",
         "24238194",
         "2015-05-07 19:52:06.0000003",
         "7.5",
         "2015-05-07 19:52:06 UTC",
         "-73.99981689453125",
         "40.73835372924805",
         "-73.99951171875",
         "40.72321701049805",
         "1",
         "40.74",
         "-74.0",
         "1.683322752402931",
         "2015",
         "5",
         "7",
         "19",
         "52",
         "3",
         "Thursday",
         "7.5"
        ],
        [
         "1",
         "27835199",
         "2009-07-17 20:04:56.0000002",
         "7.7",
         "2009-07-17 20:04:56 UTC",
         "-73.994355",
         "40.728225",
         "-73.99471",
         "40.750325",
         "1",
         "40.73",
         "-73.99",
         "2.4575898837790584",
         "2009",
         "7",
         "17",
         "20",
         "4",
         "4",
         "Friday",
         "7.7"
        ],
        [
         "2",
         "44984355",
         "2009-08-24 21:45:00.00000061",
         "12.9",
         "2009-08-24 21:45:00 UTC",
         "-74.005043",
         "40.74077",
         "-73.962565",
         "40.772647",
         "1",
         "40.74",
         "-74.01",
         "5.036377190242993",
         "2009",
         "8",
         "24",
         "21",
         "45",
         "0",
         "Monday",
         "12.9"
        ],
        [
         "3",
         "25894730",
         "2009-06-26 08:22:21.0000001",
         "5.3",
         "2009-06-26 08:22:21 UTC",
         "-73.976124",
         "40.790844",
         "-73.965316",
         "40.803349",
         "3",
         "40.79",
         "-73.98",
         "1.661683458435346",
         "2009",
         "6",
         "26",
         "8",
         "22",
         "4",
         "Friday",
         "1.7666666666666666"
        ],
        [
         "4",
         "17610152",
         "2014-08-28 17:47:00.000000188",
         "16.0",
         "2014-08-28 17:47:00 UTC",
         "-73.925023",
         "40.744085",
         "-73.97308199999999",
         "40.761247",
         "5",
         "40.74",
         "-73.93",
         "4.475449963028176",
         "2014",
         "8",
         "28",
         "17",
         "47",
         "3",
         "Thursday",
         "3.2"
        ]
       ],
       "shape": {
        "columns": 20,
        "rows": 5
       }
      },
      "text/html": [
       "<div>\n",
       "<style scoped>\n",
       "    .dataframe tbody tr th:only-of-type {\n",
       "        vertical-align: middle;\n",
       "    }\n",
       "\n",
       "    .dataframe tbody tr th {\n",
       "        vertical-align: top;\n",
       "    }\n",
       "\n",
       "    .dataframe thead th {\n",
       "        text-align: right;\n",
       "    }\n",
       "</style>\n",
       "<table border=\"1\" class=\"dataframe\">\n",
       "  <thead>\n",
       "    <tr style=\"text-align: right;\">\n",
       "      <th></th>\n",
       "      <th>fare_id</th>\n",
       "      <th>key</th>\n",
       "      <th>fare_amount</th>\n",
       "      <th>pickup_datetime</th>\n",
       "      <th>pickup_longitude</th>\n",
       "      <th>pickup_latitude</th>\n",
       "      <th>dropoff_longitude</th>\n",
       "      <th>dropoff_latitude</th>\n",
       "      <th>passenger_count</th>\n",
       "      <th>pickup_latitude_rounded</th>\n",
       "      <th>pickup_longitude_rounded</th>\n",
       "      <th>haversine_distance</th>\n",
       "      <th>pickup_year</th>\n",
       "      <th>pickup_month</th>\n",
       "      <th>pickup_day</th>\n",
       "      <th>pickup_hour</th>\n",
       "      <th>pickup_minute</th>\n",
       "      <th>pickup_dayofweek</th>\n",
       "      <th>pickup_dayofweek_label</th>\n",
       "      <th>fare_per_passenger</th>\n",
       "    </tr>\n",
       "  </thead>\n",
       "  <tbody>\n",
       "    <tr>\n",
       "      <th>0</th>\n",
       "      <td>24238194</td>\n",
       "      <td>2015-05-07 19:52:06.0000003</td>\n",
       "      <td>7.5</td>\n",
       "      <td>2015-05-07 19:52:06 UTC</td>\n",
       "      <td>-73.999817</td>\n",
       "      <td>40.738354</td>\n",
       "      <td>-73.999512</td>\n",
       "      <td>40.723217</td>\n",
       "      <td>1</td>\n",
       "      <td>40.74</td>\n",
       "      <td>-74.00</td>\n",
       "      <td>1.683323</td>\n",
       "      <td>2015</td>\n",
       "      <td>5</td>\n",
       "      <td>7</td>\n",
       "      <td>19</td>\n",
       "      <td>52</td>\n",
       "      <td>3</td>\n",
       "      <td>Thursday</td>\n",
       "      <td>7.500000</td>\n",
       "    </tr>\n",
       "    <tr>\n",
       "      <th>1</th>\n",
       "      <td>27835199</td>\n",
       "      <td>2009-07-17 20:04:56.0000002</td>\n",
       "      <td>7.7</td>\n",
       "      <td>2009-07-17 20:04:56 UTC</td>\n",
       "      <td>-73.994355</td>\n",
       "      <td>40.728225</td>\n",
       "      <td>-73.994710</td>\n",
       "      <td>40.750325</td>\n",
       "      <td>1</td>\n",
       "      <td>40.73</td>\n",
       "      <td>-73.99</td>\n",
       "      <td>2.457590</td>\n",
       "      <td>2009</td>\n",
       "      <td>7</td>\n",
       "      <td>17</td>\n",
       "      <td>20</td>\n",
       "      <td>4</td>\n",
       "      <td>4</td>\n",
       "      <td>Friday</td>\n",
       "      <td>7.700000</td>\n",
       "    </tr>\n",
       "    <tr>\n",
       "      <th>2</th>\n",
       "      <td>44984355</td>\n",
       "      <td>2009-08-24 21:45:00.00000061</td>\n",
       "      <td>12.9</td>\n",
       "      <td>2009-08-24 21:45:00 UTC</td>\n",
       "      <td>-74.005043</td>\n",
       "      <td>40.740770</td>\n",
       "      <td>-73.962565</td>\n",
       "      <td>40.772647</td>\n",
       "      <td>1</td>\n",
       "      <td>40.74</td>\n",
       "      <td>-74.01</td>\n",
       "      <td>5.036377</td>\n",
       "      <td>2009</td>\n",
       "      <td>8</td>\n",
       "      <td>24</td>\n",
       "      <td>21</td>\n",
       "      <td>45</td>\n",
       "      <td>0</td>\n",
       "      <td>Monday</td>\n",
       "      <td>12.900000</td>\n",
       "    </tr>\n",
       "    <tr>\n",
       "      <th>3</th>\n",
       "      <td>25894730</td>\n",
       "      <td>2009-06-26 08:22:21.0000001</td>\n",
       "      <td>5.3</td>\n",
       "      <td>2009-06-26 08:22:21 UTC</td>\n",
       "      <td>-73.976124</td>\n",
       "      <td>40.790844</td>\n",
       "      <td>-73.965316</td>\n",
       "      <td>40.803349</td>\n",
       "      <td>3</td>\n",
       "      <td>40.79</td>\n",
       "      <td>-73.98</td>\n",
       "      <td>1.661683</td>\n",
       "      <td>2009</td>\n",
       "      <td>6</td>\n",
       "      <td>26</td>\n",
       "      <td>8</td>\n",
       "      <td>22</td>\n",
       "      <td>4</td>\n",
       "      <td>Friday</td>\n",
       "      <td>1.766667</td>\n",
       "    </tr>\n",
       "    <tr>\n",
       "      <th>4</th>\n",
       "      <td>17610152</td>\n",
       "      <td>2014-08-28 17:47:00.000000188</td>\n",
       "      <td>16.0</td>\n",
       "      <td>2014-08-28 17:47:00 UTC</td>\n",
       "      <td>-73.925023</td>\n",
       "      <td>40.744085</td>\n",
       "      <td>-73.973082</td>\n",
       "      <td>40.761247</td>\n",
       "      <td>5</td>\n",
       "      <td>40.74</td>\n",
       "      <td>-73.93</td>\n",
       "      <td>4.475450</td>\n",
       "      <td>2014</td>\n",
       "      <td>8</td>\n",
       "      <td>28</td>\n",
       "      <td>17</td>\n",
       "      <td>47</td>\n",
       "      <td>3</td>\n",
       "      <td>Thursday</td>\n",
       "      <td>3.200000</td>\n",
       "    </tr>\n",
       "  </tbody>\n",
       "</table>\n",
       "</div>"
      ],
      "text/plain": [
       "    fare_id                            key  fare_amount  \\\n",
       "0  24238194    2015-05-07 19:52:06.0000003          7.5   \n",
       "1  27835199    2009-07-17 20:04:56.0000002          7.7   \n",
       "2  44984355   2009-08-24 21:45:00.00000061         12.9   \n",
       "3  25894730    2009-06-26 08:22:21.0000001          5.3   \n",
       "4  17610152  2014-08-28 17:47:00.000000188         16.0   \n",
       "\n",
       "           pickup_datetime  pickup_longitude  pickup_latitude  \\\n",
       "0  2015-05-07 19:52:06 UTC        -73.999817        40.738354   \n",
       "1  2009-07-17 20:04:56 UTC        -73.994355        40.728225   \n",
       "2  2009-08-24 21:45:00 UTC        -74.005043        40.740770   \n",
       "3  2009-06-26 08:22:21 UTC        -73.976124        40.790844   \n",
       "4  2014-08-28 17:47:00 UTC        -73.925023        40.744085   \n",
       "\n",
       "   dropoff_longitude  dropoff_latitude  passenger_count  \\\n",
       "0         -73.999512         40.723217                1   \n",
       "1         -73.994710         40.750325                1   \n",
       "2         -73.962565         40.772647                1   \n",
       "3         -73.965316         40.803349                3   \n",
       "4         -73.973082         40.761247                5   \n",
       "\n",
       "   pickup_latitude_rounded  pickup_longitude_rounded  haversine_distance  \\\n",
       "0                    40.74                    -74.00            1.683323   \n",
       "1                    40.73                    -73.99            2.457590   \n",
       "2                    40.74                    -74.01            5.036377   \n",
       "3                    40.79                    -73.98            1.661683   \n",
       "4                    40.74                    -73.93            4.475450   \n",
       "\n",
       "   pickup_year  pickup_month  pickup_day  pickup_hour  pickup_minute  \\\n",
       "0         2015             5           7           19             52   \n",
       "1         2009             7          17           20              4   \n",
       "2         2009             8          24           21             45   \n",
       "3         2009             6          26            8             22   \n",
       "4         2014             8          28           17             47   \n",
       "\n",
       "   pickup_dayofweek pickup_dayofweek_label  fare_per_passenger  \n",
       "0                 3               Thursday            7.500000  \n",
       "1                 4                 Friday            7.700000  \n",
       "2                 0                 Monday           12.900000  \n",
       "3                 4                 Friday            1.766667  \n",
       "4                 3               Thursday            3.200000  "
      ]
     },
     "execution_count": 2,
     "metadata": {},
     "output_type": "execute_result"
    }
   ],
   "source": [
    "import pandas as pd\n",
    "import numpy as np\n",
    "\n",
    "df = pd.read_csv('uber_cleaned.csv')\n",
    "df.head()"
   ]
  },
  {
   "cell_type": "markdown",
   "id": "c3b5f4d4",
   "metadata": {},
   "source": [
    "# Questions to answer:\n",
    "## Business Performance\n",
    "1. What are the peak demand hours/days?\n",
    "2. Which locations generate highest revenue per trip?\n",
    "3. How does fare vary by distance, time, and passenger count?\n",
    "4. What's the average trip distance and duration proxy?"
   ]
  },
  {
   "cell_type": "code",
   "execution_count": null,
   "id": "51753594",
   "metadata": {},
   "outputs": [
    {
     "data": {
      "application/vnd.microsoft.datawrangler.viewer.v0+json": {
       "columns": [
        {
         "name": "('pickup_hour', 'pickup_dayofweek_label')",
         "rawType": "object",
         "type": "unknown"
        },
        {
         "name": "count",
         "rawType": "int64",
         "type": "integer"
        }
       ],
       "ref": "13cbd199-38d8-4382-a1fd-d58714d351b0",
       "rows": [
        [
         "(np.int64(19), 'Friday')",
         "2054"
        ],
        [
         "(np.int64(19), 'Thursday')",
         "1970"
        ],
        [
         "(np.int64(19), 'Wednesday')",
         "1901"
        ],
        [
         "(np.int64(20), 'Thursday')",
         "1879"
        ],
        [
         "(np.int64(21), 'Thursday')",
         "1872"
        ],
        [
         "(np.int64(18), 'Tuesday')",
         "1866"
        ],
        [
         "(np.int64(23), 'Saturday')",
         "1863"
        ],
        [
         "(np.int64(21), 'Wednesday')",
         "1824"
        ],
        [
         "(np.int64(19), 'Tuesday')",
         "1822"
        ],
        [
         "(np.int64(22), 'Friday')",
         "1817"
        ],
        [
         "(np.int64(23), 'Friday')",
         "1816"
        ],
        [
         "(np.int64(18), 'Friday')",
         "1813"
        ],
        [
         "(np.int64(19), 'Saturday')",
         "1812"
        ],
        [
         "(np.int64(18), 'Wednesday')",
         "1810"
        ],
        [
         "(np.int64(20), 'Friday')",
         "1807"
        ],
        [
         "(np.int64(18), 'Thursday')",
         "1798"
        ],
        [
         "(np.int64(0), 'Sunday')",
         "1791"
        ],
        [
         "(np.int64(20), 'Wednesday')",
         "1775"
        ],
        [
         "(np.int64(22), 'Thursday')",
         "1771"
        ],
        [
         "(np.int64(21), 'Tuesday')",
         "1757"
        ],
        [
         "(np.int64(21), 'Friday')",
         "1757"
        ],
        [
         "(np.int64(22), 'Saturday')",
         "1753"
        ],
        [
         "(np.int64(20), 'Tuesday')",
         "1742"
        ],
        [
         "(np.int64(21), 'Saturday')",
         "1694"
        ],
        [
         "(np.int64(18), 'Monday')",
         "1690"
        ],
        [
         "(np.int64(18), 'Saturday')",
         "1670"
        ],
        [
         "(np.int64(20), 'Saturday')",
         "1667"
        ],
        [
         "(np.int64(19), 'Monday')",
         "1664"
        ],
        [
         "(np.int64(8), 'Thursday')",
         "1660"
        ],
        [
         "(np.int64(0), 'Saturday')",
         "1657"
        ],
        [
         "(np.int64(22), 'Wednesday')",
         "1648"
        ],
        [
         "(np.int64(1), 'Sunday')",
         "1643"
        ],
        [
         "(np.int64(22), 'Tuesday')",
         "1639"
        ],
        [
         "(np.int64(8), 'Tuesday')",
         "1638"
        ],
        [
         "(np.int64(23), 'Thursday')",
         "1630"
        ],
        [
         "(np.int64(8), 'Wednesday')",
         "1606"
        ],
        [
         "(np.int64(20), 'Monday')",
         "1588"
        ],
        [
         "(np.int64(9), 'Wednesday')",
         "1585"
        ],
        [
         "(np.int64(8), 'Friday')",
         "1577"
        ],
        [
         "(np.int64(9), 'Thursday')",
         "1571"
        ],
        [
         "(np.int64(9), 'Tuesday')",
         "1546"
        ],
        [
         "(np.int64(13), 'Saturday')",
         "1537"
        ],
        [
         "(np.int64(12), 'Friday')",
         "1501"
        ],
        [
         "(np.int64(1), 'Saturday')",
         "1498"
        ],
        [
         "(np.int64(12), 'Wednesday')",
         "1490"
        ],
        [
         "(np.int64(9), 'Friday')",
         "1486"
        ],
        [
         "(np.int64(17), 'Saturday')",
         "1479"
        ],
        [
         "(np.int64(15), 'Saturday')",
         "1474"
        ],
        [
         "(np.int64(13), 'Wednesday')",
         "1464"
        ],
        [
         "(np.int64(13), 'Friday')",
         "1463"
        ]
       ],
       "shape": {
        "columns": 1,
        "rows": 168
       }
      },
      "text/plain": [
       "pickup_hour  pickup_dayofweek_label\n",
       "19           Friday                    2054\n",
       "             Thursday                  1970\n",
       "             Wednesday                 1901\n",
       "20           Thursday                  1879\n",
       "21           Thursday                  1872\n",
       "                                       ... \n",
       "4            Wednesday                  200\n",
       "3            Monday                     183\n",
       "4            Monday                     172\n",
       "3            Tuesday                    165\n",
       "4            Tuesday                    144\n",
       "Name: count, Length: 168, dtype: int64"
      ]
     },
     "execution_count": 4,
     "metadata": {},
     "output_type": "execute_result"
    }
   ],
   "source": [
    "df[['pickup_hour', 'pickup_dayofweek_label']]"
   ]
  },
  {
   "cell_type": "markdown",
   "id": "de07ea2a",
   "metadata": {},
   "source": [
    "## Pricing Insights\n",
    "5. Is there dynamic pricing evidence? (fare/km variance by hour)\n",
    "6. Are there fare anomalies or outliers to investigate?\n",
    "7. How does passenger count affect per-passenger pricing?"
   ]
  },
  {
   "cell_type": "markdown",
   "id": "871419c3",
   "metadata": {},
   "source": [
    "## Operational Patterns\n",
    "8. What's the geographic distribution of pickups?\n",
    "9. Are there seasonal trends in ridership/fares?\n",
    "10. Which trip categories (short/long) dominate?"
   ]
  }
 ],
 "metadata": {
  "kernelspec": {
   "display_name": ".venv",
   "language": "python",
   "name": "python3"
  },
  "language_info": {
   "codemirror_mode": {
    "name": "ipython",
    "version": 3
   },
   "file_extension": ".py",
   "mimetype": "text/x-python",
   "name": "python",
   "nbconvert_exporter": "python",
   "pygments_lexer": "ipython3",
   "version": "3.12.3"
  }
 },
 "nbformat": 4,
 "nbformat_minor": 5
}
