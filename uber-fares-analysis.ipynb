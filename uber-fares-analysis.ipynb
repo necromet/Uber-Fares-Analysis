{
 "cells": [
  {
   "cell_type": "code",
   "execution_count": 1,
   "id": "f8e0a5cc",
   "metadata": {},
   "outputs": [
    {
     "data": {
      "application/vnd.microsoft.datawrangler.viewer.v0+json": {
       "columns": [
        {
         "name": "index",
         "rawType": "int64",
         "type": "integer"
        },
        {
         "name": "fare_id",
         "rawType": "int64",
         "type": "integer"
        },
        {
         "name": "key",
         "rawType": "object",
         "type": "string"
        },
        {
         "name": "fare_amount",
         "rawType": "float64",
         "type": "float"
        },
        {
         "name": "pickup_datetime",
         "rawType": "object",
         "type": "string"
        },
        {
         "name": "pickup_longitude",
         "rawType": "float64",
         "type": "float"
        },
        {
         "name": "pickup_latitude",
         "rawType": "float64",
         "type": "float"
        },
        {
         "name": "dropoff_longitude",
         "rawType": "float64",
         "type": "float"
        },
        {
         "name": "dropoff_latitude",
         "rawType": "float64",
         "type": "float"
        },
        {
         "name": "passenger_count",
         "rawType": "int64",
         "type": "integer"
        },
        {
         "name": "pickup_latitude_rounded",
         "rawType": "float64",
         "type": "float"
        },
        {
         "name": "pickup_longitude_rounded",
         "rawType": "float64",
         "type": "float"
        },
        {
         "name": "haversine_distance",
         "rawType": "float64",
         "type": "float"
        },
        {
         "name": "pickup_year",
         "rawType": "int64",
         "type": "integer"
        },
        {
         "name": "pickup_month",
         "rawType": "int64",
         "type": "integer"
        },
        {
         "name": "pickup_day",
         "rawType": "int64",
         "type": "integer"
        },
        {
         "name": "pickup_hour",
         "rawType": "int64",
         "type": "integer"
        },
        {
         "name": "pickup_minute",
         "rawType": "int64",
         "type": "integer"
        },
        {
         "name": "pickup_dayofweek",
         "rawType": "int64",
         "type": "integer"
        },
        {
         "name": "pickup_dayofweek_label",
         "rawType": "object",
         "type": "string"
        },
        {
         "name": "fare_per_passenger",
         "rawType": "float64",
         "type": "float"
        },
        {
         "name": "sublocality",
         "rawType": "object",
         "type": "string"
        }
       ],
       "ref": "6034f103-34a7-4f31-98ab-71420b450130",
       "rows": [
        [
         "0",
         "24238194",
         "2015-05-07 19:52:06.0000003",
         "7.5",
         "2015-05-07 19:52:06 UTC",
         "-73.99981689453125",
         "40.73835372924805",
         "-73.99951171875",
         "40.72321701049805",
         "1",
         "40.738",
         "-74.0",
         "1.683322752402931",
         "2015",
         "5",
         "7",
         "19",
         "52",
         "3",
         "Thursday",
         "7.5",
         "Manhattan"
        ],
        [
         "1",
         "27835199",
         "2009-07-17 20:04:56.0000002",
         "7.7",
         "2009-07-17 20:04:56 UTC",
         "-73.994355",
         "40.728225",
         "-73.99471",
         "40.750325",
         "1",
         "40.728",
         "-73.994",
         "2.4575898837790584",
         "2009",
         "7",
         "17",
         "20",
         "4",
         "4",
         "Friday",
         "7.7",
         "Manhattan"
        ],
        [
         "2",
         "44984355",
         "2009-08-24 21:45:00.00000061",
         "12.9",
         "2009-08-24 21:45:00 UTC",
         "-74.005043",
         "40.74077",
         "-73.962565",
         "40.772647",
         "1",
         "40.741",
         "-74.005",
         "5.036377190242993",
         "2009",
         "8",
         "24",
         "21",
         "45",
         "0",
         "Monday",
         "12.9",
         "Manhattan"
        ],
        [
         "3",
         "25894730",
         "2009-06-26 08:22:21.0000001",
         "5.3",
         "2009-06-26 08:22:21 UTC",
         "-73.976124",
         "40.790844",
         "-73.965316",
         "40.803349",
         "3",
         "40.791",
         "-73.976",
         "1.661683458435346",
         "2009",
         "6",
         "26",
         "8",
         "22",
         "4",
         "Friday",
         "1.7666666666666666",
         "Manhattan"
        ],
        [
         "4",
         "17610152",
         "2014-08-28 17:47:00.000000188",
         "16.0",
         "2014-08-28 17:47:00 UTC",
         "-73.925023",
         "40.744085",
         "-73.97308199999999",
         "40.761247",
         "5",
         "40.744",
         "-73.925",
         "4.475449963028176",
         "2014",
         "8",
         "28",
         "17",
         "47",
         "3",
         "Thursday",
         "3.2",
         "Queens"
        ]
       ],
       "shape": {
        "columns": 21,
        "rows": 5
       }
      },
      "text/html": [
       "<div>\n",
       "<style scoped>\n",
       "    .dataframe tbody tr th:only-of-type {\n",
       "        vertical-align: middle;\n",
       "    }\n",
       "\n",
       "    .dataframe tbody tr th {\n",
       "        vertical-align: top;\n",
       "    }\n",
       "\n",
       "    .dataframe thead th {\n",
       "        text-align: right;\n",
       "    }\n",
       "</style>\n",
       "<table border=\"1\" class=\"dataframe\">\n",
       "  <thead>\n",
       "    <tr style=\"text-align: right;\">\n",
       "      <th></th>\n",
       "      <th>fare_id</th>\n",
       "      <th>key</th>\n",
       "      <th>fare_amount</th>\n",
       "      <th>pickup_datetime</th>\n",
       "      <th>pickup_longitude</th>\n",
       "      <th>pickup_latitude</th>\n",
       "      <th>dropoff_longitude</th>\n",
       "      <th>dropoff_latitude</th>\n",
       "      <th>passenger_count</th>\n",
       "      <th>pickup_latitude_rounded</th>\n",
       "      <th>...</th>\n",
       "      <th>haversine_distance</th>\n",
       "      <th>pickup_year</th>\n",
       "      <th>pickup_month</th>\n",
       "      <th>pickup_day</th>\n",
       "      <th>pickup_hour</th>\n",
       "      <th>pickup_minute</th>\n",
       "      <th>pickup_dayofweek</th>\n",
       "      <th>pickup_dayofweek_label</th>\n",
       "      <th>fare_per_passenger</th>\n",
       "      <th>sublocality</th>\n",
       "    </tr>\n",
       "  </thead>\n",
       "  <tbody>\n",
       "    <tr>\n",
       "      <th>0</th>\n",
       "      <td>24238194</td>\n",
       "      <td>2015-05-07 19:52:06.0000003</td>\n",
       "      <td>7.5</td>\n",
       "      <td>2015-05-07 19:52:06 UTC</td>\n",
       "      <td>-73.999817</td>\n",
       "      <td>40.738354</td>\n",
       "      <td>-73.999512</td>\n",
       "      <td>40.723217</td>\n",
       "      <td>1</td>\n",
       "      <td>40.738</td>\n",
       "      <td>...</td>\n",
       "      <td>1.683323</td>\n",
       "      <td>2015</td>\n",
       "      <td>5</td>\n",
       "      <td>7</td>\n",
       "      <td>19</td>\n",
       "      <td>52</td>\n",
       "      <td>3</td>\n",
       "      <td>Thursday</td>\n",
       "      <td>7.500000</td>\n",
       "      <td>Manhattan</td>\n",
       "    </tr>\n",
       "    <tr>\n",
       "      <th>1</th>\n",
       "      <td>27835199</td>\n",
       "      <td>2009-07-17 20:04:56.0000002</td>\n",
       "      <td>7.7</td>\n",
       "      <td>2009-07-17 20:04:56 UTC</td>\n",
       "      <td>-73.994355</td>\n",
       "      <td>40.728225</td>\n",
       "      <td>-73.994710</td>\n",
       "      <td>40.750325</td>\n",
       "      <td>1</td>\n",
       "      <td>40.728</td>\n",
       "      <td>...</td>\n",
       "      <td>2.457590</td>\n",
       "      <td>2009</td>\n",
       "      <td>7</td>\n",
       "      <td>17</td>\n",
       "      <td>20</td>\n",
       "      <td>4</td>\n",
       "      <td>4</td>\n",
       "      <td>Friday</td>\n",
       "      <td>7.700000</td>\n",
       "      <td>Manhattan</td>\n",
       "    </tr>\n",
       "    <tr>\n",
       "      <th>2</th>\n",
       "      <td>44984355</td>\n",
       "      <td>2009-08-24 21:45:00.00000061</td>\n",
       "      <td>12.9</td>\n",
       "      <td>2009-08-24 21:45:00 UTC</td>\n",
       "      <td>-74.005043</td>\n",
       "      <td>40.740770</td>\n",
       "      <td>-73.962565</td>\n",
       "      <td>40.772647</td>\n",
       "      <td>1</td>\n",
       "      <td>40.741</td>\n",
       "      <td>...</td>\n",
       "      <td>5.036377</td>\n",
       "      <td>2009</td>\n",
       "      <td>8</td>\n",
       "      <td>24</td>\n",
       "      <td>21</td>\n",
       "      <td>45</td>\n",
       "      <td>0</td>\n",
       "      <td>Monday</td>\n",
       "      <td>12.900000</td>\n",
       "      <td>Manhattan</td>\n",
       "    </tr>\n",
       "    <tr>\n",
       "      <th>3</th>\n",
       "      <td>25894730</td>\n",
       "      <td>2009-06-26 08:22:21.0000001</td>\n",
       "      <td>5.3</td>\n",
       "      <td>2009-06-26 08:22:21 UTC</td>\n",
       "      <td>-73.976124</td>\n",
       "      <td>40.790844</td>\n",
       "      <td>-73.965316</td>\n",
       "      <td>40.803349</td>\n",
       "      <td>3</td>\n",
       "      <td>40.791</td>\n",
       "      <td>...</td>\n",
       "      <td>1.661683</td>\n",
       "      <td>2009</td>\n",
       "      <td>6</td>\n",
       "      <td>26</td>\n",
       "      <td>8</td>\n",
       "      <td>22</td>\n",
       "      <td>4</td>\n",
       "      <td>Friday</td>\n",
       "      <td>1.766667</td>\n",
       "      <td>Manhattan</td>\n",
       "    </tr>\n",
       "    <tr>\n",
       "      <th>4</th>\n",
       "      <td>17610152</td>\n",
       "      <td>2014-08-28 17:47:00.000000188</td>\n",
       "      <td>16.0</td>\n",
       "      <td>2014-08-28 17:47:00 UTC</td>\n",
       "      <td>-73.925023</td>\n",
       "      <td>40.744085</td>\n",
       "      <td>-73.973082</td>\n",
       "      <td>40.761247</td>\n",
       "      <td>5</td>\n",
       "      <td>40.744</td>\n",
       "      <td>...</td>\n",
       "      <td>4.475450</td>\n",
       "      <td>2014</td>\n",
       "      <td>8</td>\n",
       "      <td>28</td>\n",
       "      <td>17</td>\n",
       "      <td>47</td>\n",
       "      <td>3</td>\n",
       "      <td>Thursday</td>\n",
       "      <td>3.200000</td>\n",
       "      <td>Queens</td>\n",
       "    </tr>\n",
       "  </tbody>\n",
       "</table>\n",
       "<p>5 rows × 21 columns</p>\n",
       "</div>"
      ],
      "text/plain": [
       "    fare_id                            key  fare_amount  \\\n",
       "0  24238194    2015-05-07 19:52:06.0000003          7.5   \n",
       "1  27835199    2009-07-17 20:04:56.0000002          7.7   \n",
       "2  44984355   2009-08-24 21:45:00.00000061         12.9   \n",
       "3  25894730    2009-06-26 08:22:21.0000001          5.3   \n",
       "4  17610152  2014-08-28 17:47:00.000000188         16.0   \n",
       "\n",
       "           pickup_datetime  pickup_longitude  pickup_latitude  \\\n",
       "0  2015-05-07 19:52:06 UTC        -73.999817        40.738354   \n",
       "1  2009-07-17 20:04:56 UTC        -73.994355        40.728225   \n",
       "2  2009-08-24 21:45:00 UTC        -74.005043        40.740770   \n",
       "3  2009-06-26 08:22:21 UTC        -73.976124        40.790844   \n",
       "4  2014-08-28 17:47:00 UTC        -73.925023        40.744085   \n",
       "\n",
       "   dropoff_longitude  dropoff_latitude  passenger_count  \\\n",
       "0         -73.999512         40.723217                1   \n",
       "1         -73.994710         40.750325                1   \n",
       "2         -73.962565         40.772647                1   \n",
       "3         -73.965316         40.803349                3   \n",
       "4         -73.973082         40.761247                5   \n",
       "\n",
       "   pickup_latitude_rounded  ...  haversine_distance  pickup_year  \\\n",
       "0                   40.738  ...            1.683323         2015   \n",
       "1                   40.728  ...            2.457590         2009   \n",
       "2                   40.741  ...            5.036377         2009   \n",
       "3                   40.791  ...            1.661683         2009   \n",
       "4                   40.744  ...            4.475450         2014   \n",
       "\n",
       "   pickup_month  pickup_day  pickup_hour  pickup_minute  pickup_dayofweek  \\\n",
       "0             5           7           19             52                 3   \n",
       "1             7          17           20              4                 4   \n",
       "2             8          24           21             45                 0   \n",
       "3             6          26            8             22                 4   \n",
       "4             8          28           17             47                 3   \n",
       "\n",
       "   pickup_dayofweek_label fare_per_passenger  sublocality  \n",
       "0                Thursday           7.500000    Manhattan  \n",
       "1                  Friday           7.700000    Manhattan  \n",
       "2                  Monday          12.900000    Manhattan  \n",
       "3                  Friday           1.766667    Manhattan  \n",
       "4                Thursday           3.200000       Queens  \n",
       "\n",
       "[5 rows x 21 columns]"
      ]
     },
     "execution_count": 1,
     "metadata": {},
     "output_type": "execute_result"
    }
   ],
   "source": [
    "import pandas as pd\n",
    "import numpy as np\n",
    "\n",
    "df = pd.read_csv('uber_cleaned.csv')\n",
    "df.rename(columns = {'pickup_longitude_x': 'pickup_longitude',\n",
    "                     'pickup_latitude_x': 'pickup_latitude'}, inplace = True)\n",
    "df.head()"
   ]
  },
  {
   "cell_type": "markdown",
   "id": "c3b5f4d4",
   "metadata": {},
   "source": [
    "# Questions to answer:\n",
    "## Business Performance\n",
    "1. What are the peak demand hours/days?\n",
    "2. Which locations generate highest revenue per trip?\n",
    "3. How does fare vary by distance, time, and passenger count?"
   ]
  },
  {
   "cell_type": "code",
   "execution_count": 2,
   "id": "51753594",
   "metadata": {},
   "outputs": [
    {
     "data": {
      "application/vnd.plotly.v1+json": {
       "config": {
        "plotlyServerURL": "https://plot.ly"
       },
       "data": [
        {
         "coloraxis": "coloraxis",
         "hovertemplate": "Pickup Hour: %{x}<br>Day of Week: %{y}<br>Trip Count: %{z}<extra></extra>",
         "name": "0",
         "type": "heatmap",
         "x": {
          "bdata": "AAECAwQFBgcICQoLDA0ODxAREhMUFRYX",
          "dtype": "i1"
         },
         "xaxis": "x",
         "y": [
          "Friday",
          "Monday",
          "Saturday",
          "Sunday",
          "Thursday",
          "Tuesday",
          "Wednesday"
         ],
         "yaxis": "y",
         "z": {
          "bdata": "6gRXAzsCqgE5AR0BogIHBSkGzgVHBVsF3QW3BaMFYAWXBHwFFQcGCA8H3QYZBxgHaAKQAQ4BtwCsAPAAnQJgBJQFXAWYBPYE+gQFBd8EFQWxBHwFmgaABjQGgAX+BNsDeQbaBcQEjgNfAjwBSgHYAZIC7QOpBBkFkAUBBncFwgUcBccFhgYUB4MGngbZBkcH/wZrBkMFOQTLAiwBDQFcAfwBBgMxBCMFZQWvBXMFLQW+BNAEkQVmBREFbgRdBJgD9wM7AooBDQHWADAB/wI2BXwGIwZoBYcFrAWQBY8FagVlBHEFBgeyB1cHUAfrBl4GmwKjAQQBpQCQABMBxgIpBWYGCgZRBVMFegV0BWwFagWfBIMFSgceB84G3QZnBvIESAMKAmgB3gDIAPcA0AJFBUYGMQZ+BWcF0gW4Ba4FVgVTBJsFEgdtB+8GIAdwBisF",
          "dtype": "i2",
          "shape": "7, 24"
         }
        }
       ],
       "layout": {
        "coloraxis": {
         "colorbar": {
          "title": {
           "text": "Trip Count"
          }
         },
         "colorscale": [
          [
           0,
           "#0d0887"
          ],
          [
           0.1111111111111111,
           "#46039f"
          ],
          [
           0.2222222222222222,
           "#7201a8"
          ],
          [
           0.3333333333333333,
           "#9c179e"
          ],
          [
           0.4444444444444444,
           "#bd3786"
          ],
          [
           0.5555555555555556,
           "#d8576b"
          ],
          [
           0.6666666666666666,
           "#ed7953"
          ],
          [
           0.7777777777777778,
           "#fb9f3a"
          ],
          [
           0.8888888888888888,
           "#fdca26"
          ],
          [
           1,
           "#f0f921"
          ]
         ]
        },
        "template": {
         "data": {
          "bar": [
           {
            "error_x": {
             "color": "#2a3f5f"
            },
            "error_y": {
             "color": "#2a3f5f"
            },
            "marker": {
             "line": {
              "color": "#E5ECF6",
              "width": 0.5
             },
             "pattern": {
              "fillmode": "overlay",
              "size": 10,
              "solidity": 0.2
             }
            },
            "type": "bar"
           }
          ],
          "barpolar": [
           {
            "marker": {
             "line": {
              "color": "#E5ECF6",
              "width": 0.5
             },
             "pattern": {
              "fillmode": "overlay",
              "size": 10,
              "solidity": 0.2
             }
            },
            "type": "barpolar"
           }
          ],
          "carpet": [
           {
            "aaxis": {
             "endlinecolor": "#2a3f5f",
             "gridcolor": "white",
             "linecolor": "white",
             "minorgridcolor": "white",
             "startlinecolor": "#2a3f5f"
            },
            "baxis": {
             "endlinecolor": "#2a3f5f",
             "gridcolor": "white",
             "linecolor": "white",
             "minorgridcolor": "white",
             "startlinecolor": "#2a3f5f"
            },
            "type": "carpet"
           }
          ],
          "choropleth": [
           {
            "colorbar": {
             "outlinewidth": 0,
             "ticks": ""
            },
            "type": "choropleth"
           }
          ],
          "contour": [
           {
            "colorbar": {
             "outlinewidth": 0,
             "ticks": ""
            },
            "colorscale": [
             [
              0,
              "#0d0887"
             ],
             [
              0.1111111111111111,
              "#46039f"
             ],
             [
              0.2222222222222222,
              "#7201a8"
             ],
             [
              0.3333333333333333,
              "#9c179e"
             ],
             [
              0.4444444444444444,
              "#bd3786"
             ],
             [
              0.5555555555555556,
              "#d8576b"
             ],
             [
              0.6666666666666666,
              "#ed7953"
             ],
             [
              0.7777777777777778,
              "#fb9f3a"
             ],
             [
              0.8888888888888888,
              "#fdca26"
             ],
             [
              1,
              "#f0f921"
             ]
            ],
            "type": "contour"
           }
          ],
          "contourcarpet": [
           {
            "colorbar": {
             "outlinewidth": 0,
             "ticks": ""
            },
            "type": "contourcarpet"
           }
          ],
          "heatmap": [
           {
            "colorbar": {
             "outlinewidth": 0,
             "ticks": ""
            },
            "colorscale": [
             [
              0,
              "#0d0887"
             ],
             [
              0.1111111111111111,
              "#46039f"
             ],
             [
              0.2222222222222222,
              "#7201a8"
             ],
             [
              0.3333333333333333,
              "#9c179e"
             ],
             [
              0.4444444444444444,
              "#bd3786"
             ],
             [
              0.5555555555555556,
              "#d8576b"
             ],
             [
              0.6666666666666666,
              "#ed7953"
             ],
             [
              0.7777777777777778,
              "#fb9f3a"
             ],
             [
              0.8888888888888888,
              "#fdca26"
             ],
             [
              1,
              "#f0f921"
             ]
            ],
            "type": "heatmap"
           }
          ],
          "histogram": [
           {
            "marker": {
             "pattern": {
              "fillmode": "overlay",
              "size": 10,
              "solidity": 0.2
             }
            },
            "type": "histogram"
           }
          ],
          "histogram2d": [
           {
            "colorbar": {
             "outlinewidth": 0,
             "ticks": ""
            },
            "colorscale": [
             [
              0,
              "#0d0887"
             ],
             [
              0.1111111111111111,
              "#46039f"
             ],
             [
              0.2222222222222222,
              "#7201a8"
             ],
             [
              0.3333333333333333,
              "#9c179e"
             ],
             [
              0.4444444444444444,
              "#bd3786"
             ],
             [
              0.5555555555555556,
              "#d8576b"
             ],
             [
              0.6666666666666666,
              "#ed7953"
             ],
             [
              0.7777777777777778,
              "#fb9f3a"
             ],
             [
              0.8888888888888888,
              "#fdca26"
             ],
             [
              1,
              "#f0f921"
             ]
            ],
            "type": "histogram2d"
           }
          ],
          "histogram2dcontour": [
           {
            "colorbar": {
             "outlinewidth": 0,
             "ticks": ""
            },
            "colorscale": [
             [
              0,
              "#0d0887"
             ],
             [
              0.1111111111111111,
              "#46039f"
             ],
             [
              0.2222222222222222,
              "#7201a8"
             ],
             [
              0.3333333333333333,
              "#9c179e"
             ],
             [
              0.4444444444444444,
              "#bd3786"
             ],
             [
              0.5555555555555556,
              "#d8576b"
             ],
             [
              0.6666666666666666,
              "#ed7953"
             ],
             [
              0.7777777777777778,
              "#fb9f3a"
             ],
             [
              0.8888888888888888,
              "#fdca26"
             ],
             [
              1,
              "#f0f921"
             ]
            ],
            "type": "histogram2dcontour"
           }
          ],
          "mesh3d": [
           {
            "colorbar": {
             "outlinewidth": 0,
             "ticks": ""
            },
            "type": "mesh3d"
           }
          ],
          "parcoords": [
           {
            "line": {
             "colorbar": {
              "outlinewidth": 0,
              "ticks": ""
             }
            },
            "type": "parcoords"
           }
          ],
          "pie": [
           {
            "automargin": true,
            "type": "pie"
           }
          ],
          "scatter": [
           {
            "fillpattern": {
             "fillmode": "overlay",
             "size": 10,
             "solidity": 0.2
            },
            "type": "scatter"
           }
          ],
          "scatter3d": [
           {
            "line": {
             "colorbar": {
              "outlinewidth": 0,
              "ticks": ""
             }
            },
            "marker": {
             "colorbar": {
              "outlinewidth": 0,
              "ticks": ""
             }
            },
            "type": "scatter3d"
           }
          ],
          "scattercarpet": [
           {
            "marker": {
             "colorbar": {
              "outlinewidth": 0,
              "ticks": ""
             }
            },
            "type": "scattercarpet"
           }
          ],
          "scattergeo": [
           {
            "marker": {
             "colorbar": {
              "outlinewidth": 0,
              "ticks": ""
             }
            },
            "type": "scattergeo"
           }
          ],
          "scattergl": [
           {
            "marker": {
             "colorbar": {
              "outlinewidth": 0,
              "ticks": ""
             }
            },
            "type": "scattergl"
           }
          ],
          "scattermap": [
           {
            "marker": {
             "colorbar": {
              "outlinewidth": 0,
              "ticks": ""
             }
            },
            "type": "scattermap"
           }
          ],
          "scattermapbox": [
           {
            "marker": {
             "colorbar": {
              "outlinewidth": 0,
              "ticks": ""
             }
            },
            "type": "scattermapbox"
           }
          ],
          "scatterpolar": [
           {
            "marker": {
             "colorbar": {
              "outlinewidth": 0,
              "ticks": ""
             }
            },
            "type": "scatterpolar"
           }
          ],
          "scatterpolargl": [
           {
            "marker": {
             "colorbar": {
              "outlinewidth": 0,
              "ticks": ""
             }
            },
            "type": "scatterpolargl"
           }
          ],
          "scatterternary": [
           {
            "marker": {
             "colorbar": {
              "outlinewidth": 0,
              "ticks": ""
             }
            },
            "type": "scatterternary"
           }
          ],
          "surface": [
           {
            "colorbar": {
             "outlinewidth": 0,
             "ticks": ""
            },
            "colorscale": [
             [
              0,
              "#0d0887"
             ],
             [
              0.1111111111111111,
              "#46039f"
             ],
             [
              0.2222222222222222,
              "#7201a8"
             ],
             [
              0.3333333333333333,
              "#9c179e"
             ],
             [
              0.4444444444444444,
              "#bd3786"
             ],
             [
              0.5555555555555556,
              "#d8576b"
             ],
             [
              0.6666666666666666,
              "#ed7953"
             ],
             [
              0.7777777777777778,
              "#fb9f3a"
             ],
             [
              0.8888888888888888,
              "#fdca26"
             ],
             [
              1,
              "#f0f921"
             ]
            ],
            "type": "surface"
           }
          ],
          "table": [
           {
            "cells": {
             "fill": {
              "color": "#EBF0F8"
             },
             "line": {
              "color": "white"
             }
            },
            "header": {
             "fill": {
              "color": "#C8D4E3"
             },
             "line": {
              "color": "white"
             }
            },
            "type": "table"
           }
          ]
         },
         "layout": {
          "annotationdefaults": {
           "arrowcolor": "#2a3f5f",
           "arrowhead": 0,
           "arrowwidth": 1
          },
          "autotypenumbers": "strict",
          "coloraxis": {
           "colorbar": {
            "outlinewidth": 0,
            "ticks": ""
           }
          },
          "colorscale": {
           "diverging": [
            [
             0,
             "#8e0152"
            ],
            [
             0.1,
             "#c51b7d"
            ],
            [
             0.2,
             "#de77ae"
            ],
            [
             0.3,
             "#f1b6da"
            ],
            [
             0.4,
             "#fde0ef"
            ],
            [
             0.5,
             "#f7f7f7"
            ],
            [
             0.6,
             "#e6f5d0"
            ],
            [
             0.7,
             "#b8e186"
            ],
            [
             0.8,
             "#7fbc41"
            ],
            [
             0.9,
             "#4d9221"
            ],
            [
             1,
             "#276419"
            ]
           ],
           "sequential": [
            [
             0,
             "#0d0887"
            ],
            [
             0.1111111111111111,
             "#46039f"
            ],
            [
             0.2222222222222222,
             "#7201a8"
            ],
            [
             0.3333333333333333,
             "#9c179e"
            ],
            [
             0.4444444444444444,
             "#bd3786"
            ],
            [
             0.5555555555555556,
             "#d8576b"
            ],
            [
             0.6666666666666666,
             "#ed7953"
            ],
            [
             0.7777777777777778,
             "#fb9f3a"
            ],
            [
             0.8888888888888888,
             "#fdca26"
            ],
            [
             1,
             "#f0f921"
            ]
           ],
           "sequentialminus": [
            [
             0,
             "#0d0887"
            ],
            [
             0.1111111111111111,
             "#46039f"
            ],
            [
             0.2222222222222222,
             "#7201a8"
            ],
            [
             0.3333333333333333,
             "#9c179e"
            ],
            [
             0.4444444444444444,
             "#bd3786"
            ],
            [
             0.5555555555555556,
             "#d8576b"
            ],
            [
             0.6666666666666666,
             "#ed7953"
            ],
            [
             0.7777777777777778,
             "#fb9f3a"
            ],
            [
             0.8888888888888888,
             "#fdca26"
            ],
            [
             1,
             "#f0f921"
            ]
           ]
          },
          "colorway": [
           "#636efa",
           "#EF553B",
           "#00cc96",
           "#ab63fa",
           "#FFA15A",
           "#19d3f3",
           "#FF6692",
           "#B6E880",
           "#FF97FF",
           "#FECB52"
          ],
          "font": {
           "color": "#2a3f5f"
          },
          "geo": {
           "bgcolor": "white",
           "lakecolor": "white",
           "landcolor": "#E5ECF6",
           "showlakes": true,
           "showland": true,
           "subunitcolor": "white"
          },
          "hoverlabel": {
           "align": "left"
          },
          "hovermode": "closest",
          "mapbox": {
           "style": "light"
          },
          "paper_bgcolor": "white",
          "plot_bgcolor": "#E5ECF6",
          "polar": {
           "angularaxis": {
            "gridcolor": "white",
            "linecolor": "white",
            "ticks": ""
           },
           "bgcolor": "#E5ECF6",
           "radialaxis": {
            "gridcolor": "white",
            "linecolor": "white",
            "ticks": ""
           }
          },
          "scene": {
           "xaxis": {
            "backgroundcolor": "#E5ECF6",
            "gridcolor": "white",
            "gridwidth": 2,
            "linecolor": "white",
            "showbackground": true,
            "ticks": "",
            "zerolinecolor": "white"
           },
           "yaxis": {
            "backgroundcolor": "#E5ECF6",
            "gridcolor": "white",
            "gridwidth": 2,
            "linecolor": "white",
            "showbackground": true,
            "ticks": "",
            "zerolinecolor": "white"
           },
           "zaxis": {
            "backgroundcolor": "#E5ECF6",
            "gridcolor": "white",
            "gridwidth": 2,
            "linecolor": "white",
            "showbackground": true,
            "ticks": "",
            "zerolinecolor": "white"
           }
          },
          "shapedefaults": {
           "line": {
            "color": "#2a3f5f"
           }
          },
          "ternary": {
           "aaxis": {
            "gridcolor": "white",
            "linecolor": "white",
            "ticks": ""
           },
           "baxis": {
            "gridcolor": "white",
            "linecolor": "white",
            "ticks": ""
           },
           "bgcolor": "#E5ECF6",
           "caxis": {
            "gridcolor": "white",
            "linecolor": "white",
            "ticks": ""
           }
          },
          "title": {
           "x": 0.05
          },
          "xaxis": {
           "automargin": true,
           "gridcolor": "white",
           "linecolor": "white",
           "ticks": "",
           "title": {
            "standoff": 15
           },
           "zerolinecolor": "white",
           "zerolinewidth": 2
          },
          "yaxis": {
           "automargin": true,
           "gridcolor": "white",
           "linecolor": "white",
           "ticks": "",
           "title": {
            "standoff": 15
           },
           "zerolinecolor": "white",
           "zerolinewidth": 2
          }
         }
        },
        "title": {
         "text": "Uber Trips Heatmap by Hour and Day of Week"
        },
        "xaxis": {
         "anchor": "y",
         "domain": [
          0,
          1
         ],
         "title": {
          "text": "Pickup Hour"
         }
        },
        "yaxis": {
         "anchor": "x",
         "autorange": "reversed",
         "domain": [
          0,
          1
         ],
         "title": {
          "text": "Day of Week"
         }
        }
       }
      }
     },
     "metadata": {},
     "output_type": "display_data"
    }
   ],
   "source": [
    "import plotly.express as px\n",
    "\n",
    "# Count trips for each hour and day of week\n",
    "heatmap_data = df.groupby(['pickup_dayofweek_label', 'pickup_hour']).size().reset_index(name='trip_count')\n",
    "\n",
    "# Pivot for heatmap\n",
    "heatmap_pivot = heatmap_data.pivot(index='pickup_dayofweek_label', columns='pickup_hour', values='trip_count')\n",
    "\n",
    "# Plotly heatmap\n",
    "fig = px.imshow(\n",
    "    heatmap_pivot,\n",
    "    labels=dict(x=\"Pickup Hour\", y=\"Day of Week\", color=\"Trip Count\"),\n",
    "    x=heatmap_pivot.columns,\n",
    "    y=heatmap_pivot.index,\n",
    "    aspect=\"auto\",\n",
    "    title=\"Uber Trips Heatmap by Hour and Day of Week\"\n",
    ")\n",
    "fig.show()"
   ]
  },
  {
   "cell_type": "code",
   "execution_count": 3,
   "id": "85379233",
   "metadata": {},
   "outputs": [
    {
     "data": {
      "application/vnd.microsoft.datawrangler.viewer.v0+json": {
       "columns": [
        {
         "name": "index",
         "rawType": "int64",
         "type": "integer"
        },
        {
         "name": "sublocality",
         "rawType": "object",
         "type": "string"
        },
        {
         "name": "avg_revenue",
         "rawType": "float64",
         "type": "float"
        },
        {
         "name": "trip_count",
         "rawType": "int64",
         "type": "integer"
        }
       ],
       "ref": "5e7332b6-d9c5-4cba-a787-1c94d3e51da5",
       "rows": [
        [
         "3",
         "Queens",
         "29.33732015319325",
         "9661"
        ],
        [
         "5",
         "Staten Island",
         "17.38230769230769",
         "13"
        ],
        [
         "0",
         "Brooklyn",
         "12.953525147258722",
         "4414"
        ],
        [
         "1",
         "Chauncey",
         "12.9",
         "1"
        ],
        [
         "6",
         "The Bronx",
         "12.094585365853657",
         "205"
        ],
        [
         "2",
         "Manhattan",
         "10.21394990919178",
         "181151"
        ],
        [
         "4",
         "Sobral",
         "8.9",
         "1"
        ]
       ],
       "shape": {
        "columns": 3,
        "rows": 7
       }
      },
      "text/html": [
       "<div>\n",
       "<style scoped>\n",
       "    .dataframe tbody tr th:only-of-type {\n",
       "        vertical-align: middle;\n",
       "    }\n",
       "\n",
       "    .dataframe tbody tr th {\n",
       "        vertical-align: top;\n",
       "    }\n",
       "\n",
       "    .dataframe thead th {\n",
       "        text-align: right;\n",
       "    }\n",
       "</style>\n",
       "<table border=\"1\" class=\"dataframe\">\n",
       "  <thead>\n",
       "    <tr style=\"text-align: right;\">\n",
       "      <th></th>\n",
       "      <th>sublocality</th>\n",
       "      <th>avg_revenue</th>\n",
       "      <th>trip_count</th>\n",
       "    </tr>\n",
       "  </thead>\n",
       "  <tbody>\n",
       "    <tr>\n",
       "      <th>3</th>\n",
       "      <td>Queens</td>\n",
       "      <td>29.337320</td>\n",
       "      <td>9661</td>\n",
       "    </tr>\n",
       "    <tr>\n",
       "      <th>5</th>\n",
       "      <td>Staten Island</td>\n",
       "      <td>17.382308</td>\n",
       "      <td>13</td>\n",
       "    </tr>\n",
       "    <tr>\n",
       "      <th>0</th>\n",
       "      <td>Brooklyn</td>\n",
       "      <td>12.953525</td>\n",
       "      <td>4414</td>\n",
       "    </tr>\n",
       "    <tr>\n",
       "      <th>1</th>\n",
       "      <td>Chauncey</td>\n",
       "      <td>12.900000</td>\n",
       "      <td>1</td>\n",
       "    </tr>\n",
       "    <tr>\n",
       "      <th>6</th>\n",
       "      <td>The Bronx</td>\n",
       "      <td>12.094585</td>\n",
       "      <td>205</td>\n",
       "    </tr>\n",
       "    <tr>\n",
       "      <th>2</th>\n",
       "      <td>Manhattan</td>\n",
       "      <td>10.213950</td>\n",
       "      <td>181151</td>\n",
       "    </tr>\n",
       "    <tr>\n",
       "      <th>4</th>\n",
       "      <td>Sobral</td>\n",
       "      <td>8.900000</td>\n",
       "      <td>1</td>\n",
       "    </tr>\n",
       "  </tbody>\n",
       "</table>\n",
       "</div>"
      ],
      "text/plain": [
       "     sublocality  avg_revenue  trip_count\n",
       "3         Queens    29.337320        9661\n",
       "5  Staten Island    17.382308          13\n",
       "0       Brooklyn    12.953525        4414\n",
       "1       Chauncey    12.900000           1\n",
       "6      The Bronx    12.094585         205\n",
       "2      Manhattan    10.213950      181151\n",
       "4         Sobral     8.900000           1"
      ]
     },
     "execution_count": 3,
     "metadata": {},
     "output_type": "execute_result"
    }
   ],
   "source": [
    "# Calculate total and average revenue per pickup location (rounded coordinates for grouping)\n",
    "pickup_revenue = df.groupby(['sublocality']).agg(\n",
    "    avg_revenue=('fare_amount', 'mean'),\n",
    "    trip_count=('fare_amount', 'count')\n",
    ").reset_index()\n",
    "\n",
    "pickup_revenue.sort_values('avg_revenue', ascending=False).head(10)"
   ]
  },
  {
   "cell_type": "code",
   "execution_count": 9,
   "id": "30e9aa3f",
   "metadata": {},
   "outputs": [
    {
     "data": {
      "application/vnd.plotly.v1+json": {
       "config": {
        "plotlyServerURL": "https://plot.ly"
       },
       "data": [
        {
         "marker": {
          "color": "orange"
         },
         "type": "bar",
         "x": [
          "Queens",
          "Staten Island",
          "Brooklyn",
          "Chauncey",
          "The Bronx",
          "Manhattan",
          "Sobral"
         ],
         "y": {
          "bdata": "KT8SnVpWPUCEeLvq3mExQJPHtnI06ClAzczMzMzMKUAWCzp+bTAoQPbrrdeKbSRAzczMzMzMIUA=",
          "dtype": "f8"
         }
        }
       ],
       "layout": {
        "template": {
         "data": {
          "bar": [
           {
            "error_x": {
             "color": "#2a3f5f"
            },
            "error_y": {
             "color": "#2a3f5f"
            },
            "marker": {
             "line": {
              "color": "#E5ECF6",
              "width": 0.5
             },
             "pattern": {
              "fillmode": "overlay",
              "size": 10,
              "solidity": 0.2
             }
            },
            "type": "bar"
           }
          ],
          "barpolar": [
           {
            "marker": {
             "line": {
              "color": "#E5ECF6",
              "width": 0.5
             },
             "pattern": {
              "fillmode": "overlay",
              "size": 10,
              "solidity": 0.2
             }
            },
            "type": "barpolar"
           }
          ],
          "carpet": [
           {
            "aaxis": {
             "endlinecolor": "#2a3f5f",
             "gridcolor": "white",
             "linecolor": "white",
             "minorgridcolor": "white",
             "startlinecolor": "#2a3f5f"
            },
            "baxis": {
             "endlinecolor": "#2a3f5f",
             "gridcolor": "white",
             "linecolor": "white",
             "minorgridcolor": "white",
             "startlinecolor": "#2a3f5f"
            },
            "type": "carpet"
           }
          ],
          "choropleth": [
           {
            "colorbar": {
             "outlinewidth": 0,
             "ticks": ""
            },
            "type": "choropleth"
           }
          ],
          "contour": [
           {
            "colorbar": {
             "outlinewidth": 0,
             "ticks": ""
            },
            "colorscale": [
             [
              0,
              "#0d0887"
             ],
             [
              0.1111111111111111,
              "#46039f"
             ],
             [
              0.2222222222222222,
              "#7201a8"
             ],
             [
              0.3333333333333333,
              "#9c179e"
             ],
             [
              0.4444444444444444,
              "#bd3786"
             ],
             [
              0.5555555555555556,
              "#d8576b"
             ],
             [
              0.6666666666666666,
              "#ed7953"
             ],
             [
              0.7777777777777778,
              "#fb9f3a"
             ],
             [
              0.8888888888888888,
              "#fdca26"
             ],
             [
              1,
              "#f0f921"
             ]
            ],
            "type": "contour"
           }
          ],
          "contourcarpet": [
           {
            "colorbar": {
             "outlinewidth": 0,
             "ticks": ""
            },
            "type": "contourcarpet"
           }
          ],
          "heatmap": [
           {
            "colorbar": {
             "outlinewidth": 0,
             "ticks": ""
            },
            "colorscale": [
             [
              0,
              "#0d0887"
             ],
             [
              0.1111111111111111,
              "#46039f"
             ],
             [
              0.2222222222222222,
              "#7201a8"
             ],
             [
              0.3333333333333333,
              "#9c179e"
             ],
             [
              0.4444444444444444,
              "#bd3786"
             ],
             [
              0.5555555555555556,
              "#d8576b"
             ],
             [
              0.6666666666666666,
              "#ed7953"
             ],
             [
              0.7777777777777778,
              "#fb9f3a"
             ],
             [
              0.8888888888888888,
              "#fdca26"
             ],
             [
              1,
              "#f0f921"
             ]
            ],
            "type": "heatmap"
           }
          ],
          "histogram": [
           {
            "marker": {
             "pattern": {
              "fillmode": "overlay",
              "size": 10,
              "solidity": 0.2
             }
            },
            "type": "histogram"
           }
          ],
          "histogram2d": [
           {
            "colorbar": {
             "outlinewidth": 0,
             "ticks": ""
            },
            "colorscale": [
             [
              0,
              "#0d0887"
             ],
             [
              0.1111111111111111,
              "#46039f"
             ],
             [
              0.2222222222222222,
              "#7201a8"
             ],
             [
              0.3333333333333333,
              "#9c179e"
             ],
             [
              0.4444444444444444,
              "#bd3786"
             ],
             [
              0.5555555555555556,
              "#d8576b"
             ],
             [
              0.6666666666666666,
              "#ed7953"
             ],
             [
              0.7777777777777778,
              "#fb9f3a"
             ],
             [
              0.8888888888888888,
              "#fdca26"
             ],
             [
              1,
              "#f0f921"
             ]
            ],
            "type": "histogram2d"
           }
          ],
          "histogram2dcontour": [
           {
            "colorbar": {
             "outlinewidth": 0,
             "ticks": ""
            },
            "colorscale": [
             [
              0,
              "#0d0887"
             ],
             [
              0.1111111111111111,
              "#46039f"
             ],
             [
              0.2222222222222222,
              "#7201a8"
             ],
             [
              0.3333333333333333,
              "#9c179e"
             ],
             [
              0.4444444444444444,
              "#bd3786"
             ],
             [
              0.5555555555555556,
              "#d8576b"
             ],
             [
              0.6666666666666666,
              "#ed7953"
             ],
             [
              0.7777777777777778,
              "#fb9f3a"
             ],
             [
              0.8888888888888888,
              "#fdca26"
             ],
             [
              1,
              "#f0f921"
             ]
            ],
            "type": "histogram2dcontour"
           }
          ],
          "mesh3d": [
           {
            "colorbar": {
             "outlinewidth": 0,
             "ticks": ""
            },
            "type": "mesh3d"
           }
          ],
          "parcoords": [
           {
            "line": {
             "colorbar": {
              "outlinewidth": 0,
              "ticks": ""
             }
            },
            "type": "parcoords"
           }
          ],
          "pie": [
           {
            "automargin": true,
            "type": "pie"
           }
          ],
          "scatter": [
           {
            "fillpattern": {
             "fillmode": "overlay",
             "size": 10,
             "solidity": 0.2
            },
            "type": "scatter"
           }
          ],
          "scatter3d": [
           {
            "line": {
             "colorbar": {
              "outlinewidth": 0,
              "ticks": ""
             }
            },
            "marker": {
             "colorbar": {
              "outlinewidth": 0,
              "ticks": ""
             }
            },
            "type": "scatter3d"
           }
          ],
          "scattercarpet": [
           {
            "marker": {
             "colorbar": {
              "outlinewidth": 0,
              "ticks": ""
             }
            },
            "type": "scattercarpet"
           }
          ],
          "scattergeo": [
           {
            "marker": {
             "colorbar": {
              "outlinewidth": 0,
              "ticks": ""
             }
            },
            "type": "scattergeo"
           }
          ],
          "scattergl": [
           {
            "marker": {
             "colorbar": {
              "outlinewidth": 0,
              "ticks": ""
             }
            },
            "type": "scattergl"
           }
          ],
          "scattermap": [
           {
            "marker": {
             "colorbar": {
              "outlinewidth": 0,
              "ticks": ""
             }
            },
            "type": "scattermap"
           }
          ],
          "scattermapbox": [
           {
            "marker": {
             "colorbar": {
              "outlinewidth": 0,
              "ticks": ""
             }
            },
            "type": "scattermapbox"
           }
          ],
          "scatterpolar": [
           {
            "marker": {
             "colorbar": {
              "outlinewidth": 0,
              "ticks": ""
             }
            },
            "type": "scatterpolar"
           }
          ],
          "scatterpolargl": [
           {
            "marker": {
             "colorbar": {
              "outlinewidth": 0,
              "ticks": ""
             }
            },
            "type": "scatterpolargl"
           }
          ],
          "scatterternary": [
           {
            "marker": {
             "colorbar": {
              "outlinewidth": 0,
              "ticks": ""
             }
            },
            "type": "scatterternary"
           }
          ],
          "surface": [
           {
            "colorbar": {
             "outlinewidth": 0,
             "ticks": ""
            },
            "colorscale": [
             [
              0,
              "#0d0887"
             ],
             [
              0.1111111111111111,
              "#46039f"
             ],
             [
              0.2222222222222222,
              "#7201a8"
             ],
             [
              0.3333333333333333,
              "#9c179e"
             ],
             [
              0.4444444444444444,
              "#bd3786"
             ],
             [
              0.5555555555555556,
              "#d8576b"
             ],
             [
              0.6666666666666666,
              "#ed7953"
             ],
             [
              0.7777777777777778,
              "#fb9f3a"
             ],
             [
              0.8888888888888888,
              "#fdca26"
             ],
             [
              1,
              "#f0f921"
             ]
            ],
            "type": "surface"
           }
          ],
          "table": [
           {
            "cells": {
             "fill": {
              "color": "#EBF0F8"
             },
             "line": {
              "color": "white"
             }
            },
            "header": {
             "fill": {
              "color": "#C8D4E3"
             },
             "line": {
              "color": "white"
             }
            },
            "type": "table"
           }
          ]
         },
         "layout": {
          "annotationdefaults": {
           "arrowcolor": "#2a3f5f",
           "arrowhead": 0,
           "arrowwidth": 1
          },
          "autotypenumbers": "strict",
          "coloraxis": {
           "colorbar": {
            "outlinewidth": 0,
            "ticks": ""
           }
          },
          "colorscale": {
           "diverging": [
            [
             0,
             "#8e0152"
            ],
            [
             0.1,
             "#c51b7d"
            ],
            [
             0.2,
             "#de77ae"
            ],
            [
             0.3,
             "#f1b6da"
            ],
            [
             0.4,
             "#fde0ef"
            ],
            [
             0.5,
             "#f7f7f7"
            ],
            [
             0.6,
             "#e6f5d0"
            ],
            [
             0.7,
             "#b8e186"
            ],
            [
             0.8,
             "#7fbc41"
            ],
            [
             0.9,
             "#4d9221"
            ],
            [
             1,
             "#276419"
            ]
           ],
           "sequential": [
            [
             0,
             "#0d0887"
            ],
            [
             0.1111111111111111,
             "#46039f"
            ],
            [
             0.2222222222222222,
             "#7201a8"
            ],
            [
             0.3333333333333333,
             "#9c179e"
            ],
            [
             0.4444444444444444,
             "#bd3786"
            ],
            [
             0.5555555555555556,
             "#d8576b"
            ],
            [
             0.6666666666666666,
             "#ed7953"
            ],
            [
             0.7777777777777778,
             "#fb9f3a"
            ],
            [
             0.8888888888888888,
             "#fdca26"
            ],
            [
             1,
             "#f0f921"
            ]
           ],
           "sequentialminus": [
            [
             0,
             "#0d0887"
            ],
            [
             0.1111111111111111,
             "#46039f"
            ],
            [
             0.2222222222222222,
             "#7201a8"
            ],
            [
             0.3333333333333333,
             "#9c179e"
            ],
            [
             0.4444444444444444,
             "#bd3786"
            ],
            [
             0.5555555555555556,
             "#d8576b"
            ],
            [
             0.6666666666666666,
             "#ed7953"
            ],
            [
             0.7777777777777778,
             "#fb9f3a"
            ],
            [
             0.8888888888888888,
             "#fdca26"
            ],
            [
             1,
             "#f0f921"
            ]
           ]
          },
          "colorway": [
           "#636efa",
           "#EF553B",
           "#00cc96",
           "#ab63fa",
           "#FFA15A",
           "#19d3f3",
           "#FF6692",
           "#B6E880",
           "#FF97FF",
           "#FECB52"
          ],
          "font": {
           "color": "#2a3f5f"
          },
          "geo": {
           "bgcolor": "white",
           "lakecolor": "white",
           "landcolor": "#E5ECF6",
           "showlakes": true,
           "showland": true,
           "subunitcolor": "white"
          },
          "hoverlabel": {
           "align": "left"
          },
          "hovermode": "closest",
          "mapbox": {
           "style": "light"
          },
          "paper_bgcolor": "white",
          "plot_bgcolor": "#E5ECF6",
          "polar": {
           "angularaxis": {
            "gridcolor": "white",
            "linecolor": "white",
            "ticks": ""
           },
           "bgcolor": "#E5ECF6",
           "radialaxis": {
            "gridcolor": "white",
            "linecolor": "white",
            "ticks": ""
           }
          },
          "scene": {
           "xaxis": {
            "backgroundcolor": "#E5ECF6",
            "gridcolor": "white",
            "gridwidth": 2,
            "linecolor": "white",
            "showbackground": true,
            "ticks": "",
            "zerolinecolor": "white"
           },
           "yaxis": {
            "backgroundcolor": "#E5ECF6",
            "gridcolor": "white",
            "gridwidth": 2,
            "linecolor": "white",
            "showbackground": true,
            "ticks": "",
            "zerolinecolor": "white"
           },
           "zaxis": {
            "backgroundcolor": "#E5ECF6",
            "gridcolor": "white",
            "gridwidth": 2,
            "linecolor": "white",
            "showbackground": true,
            "ticks": "",
            "zerolinecolor": "white"
           }
          },
          "shapedefaults": {
           "line": {
            "color": "#2a3f5f"
           }
          },
          "ternary": {
           "aaxis": {
            "gridcolor": "white",
            "linecolor": "white",
            "ticks": ""
           },
           "baxis": {
            "gridcolor": "white",
            "linecolor": "white",
            "ticks": ""
           },
           "bgcolor": "#E5ECF6",
           "caxis": {
            "gridcolor": "white",
            "linecolor": "white",
            "ticks": ""
           }
          },
          "title": {
           "x": 0.05
          },
          "xaxis": {
           "automargin": true,
           "gridcolor": "white",
           "linecolor": "white",
           "ticks": "",
           "title": {
            "standoff": 15
           },
           "zerolinecolor": "white",
           "zerolinewidth": 2
          },
          "yaxis": {
           "automargin": true,
           "gridcolor": "white",
           "linecolor": "white",
           "ticks": "",
           "title": {
            "standoff": 15
           },
           "zerolinecolor": "white",
           "zerolinewidth": 2
          }
         }
        },
        "title": {
         "text": "Average Revenue per Trip by Location"
        },
        "xaxis": {
         "tickangle": 45,
         "title": {
          "text": "Pickup Location"
         }
        },
        "yaxis": {
         "title": {
          "text": "Average Revenue ($)"
         }
        }
       }
      }
     },
     "metadata": {},
     "output_type": "display_data"
    }
   ],
   "source": [
    "import plotly.graph_objects as go\n",
    "\n",
    "# Get top 10 locations for visualization\n",
    "top_locations = pickup_revenue.sort_values('avg_revenue', ascending=False).head(10)\n",
    "\n",
    "# Bar chart for average revenue\n",
    "fig = go.Figure(data=[\n",
    "    go.Bar(x=top_locations['sublocality'], \n",
    "           y=top_locations['avg_revenue'],\n",
    "           marker_color='orange')\n",
    "])\n",
    "\n",
    "fig.update_layout(\n",
    "    title='Average Revenue per Trip by Location',\n",
    "    xaxis_title='Pickup Location',\n",
    "    yaxis_title='Average Revenue ($)',\n",
    "    xaxis_tickangle=45\n",
    ")\n",
    "\n",
    "fig.show()"
   ]
  },
  {
   "cell_type": "code",
   "execution_count": 5,
   "id": "4f378b85",
   "metadata": {},
   "outputs": [
    {
     "data": {
      "text/plain": [
       "Index(['fare_id', 'key', 'fare_amount', 'pickup_datetime', 'pickup_longitude',\n",
       "       'pickup_latitude', 'dropoff_longitude', 'dropoff_latitude',\n",
       "       'passenger_count', 'pickup_latitude_rounded',\n",
       "       'pickup_longitude_rounded', 'haversine_distance', 'pickup_year',\n",
       "       'pickup_month', 'pickup_day', 'pickup_hour', 'pickup_minute',\n",
       "       'pickup_dayofweek', 'pickup_dayofweek_label', 'fare_per_passenger',\n",
       "       'sublocality'],\n",
       "      dtype='object')"
      ]
     },
     "execution_count": 5,
     "metadata": {},
     "output_type": "execute_result"
    }
   ],
   "source": [
    "df.columns"
   ]
  },
  {
   "cell_type": "code",
   "execution_count": 17,
   "id": "3c6cd12e",
   "metadata": {},
   "outputs": [
    {
     "data": {
      "image/png": "[encoded data removed]",
      "text/plain": [
       "<Figure size 1500x500 with 2 Axes>"
      ]
     },
     "metadata": {},
     "output_type": "display_data"
    }
   ],
   "source": [
    "import matplotlib.pyplot as plt\n",
    "import numpy as np\n",
    "import seaborn as sns\n",
    "\n",
    "fig, axes = plt.subplots(1, 2, figsize=(15, 5))\n",
    "fig.suptitle('Fare Analysis: Distance, Time, and Passenger Count', fontsize=16, fontweight='bold')\n",
    "\n",
    "# Fare vs Distance\n",
    "axes[0].scatter(df['haversine_distance'], df['fare_amount'], alpha=0.6, s=10)\n",
    "axes[0].set_xlabel('Distance (km)')\n",
    "axes[0].set_ylabel('Fare Amount ($)')\n",
    "axes[0].set_title('Fare vs Distance')\n",
    "axes[0].grid(True, alpha=0.3)\n",
    "\n",
    "# Fare by Time of Day\n",
    "hourly_fare = df.groupby('pickup_hour')['fare_amount'].mean().reset_index()\n",
    "axes[1].plot(hourly_fare['pickup_hour'], hourly_fare['fare_amount'], \n",
    "                marker='o', linewidth=3, color='orange', markersize=6)\n",
    "axes[1].set_xlabel('Hour of Day')\n",
    "axes[1].set_ylabel('Average Fare ($)')\n",
    "axes[1].set_title('Fare by Time of Day')\n",
    "axes[1].grid(True, alpha=0.3)\n",
    "axes[1].set_xticks(range(0, 24, 2))\n",
    "\n",
    "plt.tight_layout()\n",
    "plt.show()"
   ]
  },
  {
   "cell_type": "code",
   "execution_count": null,
   "id": "bfcf22f7",
   "metadata": {},
   "outputs": [
    {
     "name": "stdout",
     "output_type": "stream",
     "text": [
      "\n",
      "=== FARE VARIATION ANALYSIS ===\n",
      "\n",
      "1. CORRELATION WITH DISTANCE:\n",
      "Fare-Distance Correlation: 0.844\n",
      "\n",
      "2. FARE BY TIME PERIODS:\n",
      "                  mean       std  count\n",
      "time_period                            \n",
      "Night        11.988305  9.460077  29901\n",
      "Morning      10.965140  8.846408  53935\n",
      "Afternoon    11.450096  9.676981  59530\n",
      "Evening      10.927325  8.281019  56634\n",
      "\n",
      "3. FARE BY PASSENGER COUNT:\n",
      "                fare_amount               haversine_distance              \n",
      "                       mean   std   count               mean   std   count\n",
      "passenger_count                                                           \n",
      "1                     11.13  8.93  139134               3.25  3.57  139134\n",
      "2                     11.67  9.52   29428               3.44  3.82   29428\n",
      "3                     11.38  9.14    8881               3.32  3.67    8881\n",
      "4                     11.54  9.35    4276               3.36  3.74    4276\n",
      "5                     11.15  8.94   14009               3.27  3.60   14009\n",
      "6                     12.06  9.55    4272               3.40  3.78    4272\n",
      "\n",
      "4. FARE PER PASSENGER:\n",
      "passenger_count\n",
      "1    11.131536\n",
      "2     5.834242\n",
      "3     3.794361\n",
      "4     2.884985\n",
      "5     2.230688\n",
      "6     2.009503\n",
      "Name: fare_per_passenger, dtype: float64\n",
      "\n",
      "5. FARE BY DISTANCE CATEGORIES:\n",
      "                        mean  median  count\n",
      "distance_category                          \n",
      "Short (<2km)        6.444081    6.00  88702\n",
      "Medium (2-5km)     10.612704   10.00  70890\n",
      "Long (5-10km)      19.448739   17.70  24493\n",
      "Very Long (>10km)  37.665945   37.33  10282\n"
     ]
    },
    {
     "name": "stderr",
     "output_type": "stream",
     "text": [
      "/tmp/ipykernel_6919/162941079.py:15: FutureWarning:\n",
      "\n",
      "The default of observed=False is deprecated and will be changed to True in a future version of pandas. Pass observed=False to retain current behavior or observed=True to adopt the future default and silence this warning.\n",
      "\n",
      "/tmp/ipykernel_6919/162941079.py:37: FutureWarning:\n",
      "\n",
      "The default of observed=False is deprecated and will be changed to True in a future version of pandas. Pass observed=False to retain current behavior or observed=True to adopt the future default and silence this warning.\n",
      "\n"
     ]
    }
   ],
   "source": [
    "# Additional detailed analysis\n",
    "print(\"\\n=== FARE VARIATION ANALYSIS ===\")\n",
    "\n",
    "# Correlation analysis\n",
    "print(\"\\n1. CORRELATION WITH DISTANCE:\")\n",
    "distance_corr = df[['fare_amount', 'haversine_distance']].corr().iloc[0,1]\n",
    "print(f\"Fare-Distance Correlation: {distance_corr:.3f}\")\n",
    "\n",
    "# Time-based analysis\n",
    "print(\"\\n2. FARE BY TIME PERIODS:\")\n",
    "df['time_period'] = pd.cut(df['pickup_hour'], \n",
    "                          bins=[0, 6, 12, 18, 24], \n",
    "                          labels=['Night', 'Morning', 'Afternoon', 'Evening'],\n",
    "                          include_lowest=True)\n",
    "time_fare = df.groupby('time_period')['fare_amount'].agg(['mean', 'std', 'count'])\n",
    "print(time_fare)\n",
    "\n",
    "# Passenger count analysis\n",
    "print(\"\\n3. FARE BY PASSENGER COUNT:\")\n",
    "passenger_analysis = df.groupby('passenger_count').agg({\n",
    "    'fare_amount': ['mean', 'std', 'count'],\n",
    "    'haversine_distance': ['mean', 'std', 'count']\n",
    "}).round(2)\n",
    "print(passenger_analysis)\n",
    "\n",
    "# Per-passenger fare\n",
    "df['fare_per_passenger'] = df['fare_amount'] / df['passenger_count']\n",
    "print(\"\\n4. FARE PER PASSENGER:\")\n",
    "per_passenger_fare = df.groupby('passenger_count')['fare_per_passenger'].mean()\n",
    "print(per_passenger_fare)\n",
    "\n",
    "# Distance categories analysis\n",
    "print(\"\\n5. FARE BY DISTANCE CATEGORIES:\")\n",
    "df['distance_category'] = pd.cut(df['haversine_distance'], \n",
    "                                bins=[0, 2, 5, 10, float('inf')], \n",
    "                                labels=['Short (<2km)', 'Medium (2-5km)', 'Long (5-10km)', 'Very Long (>10km)'])\n",
    "distance_fare = df.groupby('distance_category')['fare_amount'].agg(['mean', 'median', 'count'])\n",
    "print(distance_fare)"
   ]
  },
  {
   "cell_type": "markdown",
   "id": "de07ea2a",
   "metadata": {},
   "source": [
    "## Pricing Insights\n",
    "4. Is there dynamic pricing evidence? (fare/km variance by hour)\n",
    "5. Are there fare anomalies or outliers to investigate?\n",
    "6. How does passenger count affect per-passenger pricing?"
   ]
  },
  {
   "cell_type": "code",
   "execution_count": 26,
   "id": "c8a9a1df",
   "metadata": {},
   "outputs": [
    {
     "name": "stdout",
     "output_type": "stream",
     "text": [
      "4. DYNAMIC PRICING ANALYSIS:\n",
      "----------------------------------------\n",
      "Fare per km by hour:\n",
      "              mean    std  count\n",
      "pickup_hour                     \n",
      "0            3.936  2.456   7587\n",
      "1            3.899  2.831   5687\n",
      "2            3.923  2.906   4249\n",
      "3            3.948  3.339   3116\n",
      "4            3.809  3.346   2273\n",
      "5            3.599  2.647   1879\n",
      "6            3.713  2.385   3981\n",
      "7            4.066  2.518   6976\n",
      "8            4.553  2.638   8790\n",
      "9            4.778  2.931   9020\n",
      "10           4.710  2.910   8662\n",
      "11           4.772  2.807   9069\n",
      "12           4.937  3.207   9601\n",
      "13           4.810  2.918   9665\n",
      "14           4.770  3.012   9446\n",
      "15           4.738  3.079   9255\n",
      "16           4.592  2.905   7991\n",
      "17           4.615  2.939   9397\n",
      "18           4.599  2.899  11655\n",
      "19           4.435  2.624  12161\n",
      "20           4.216  2.677  11371\n",
      "21           4.097  2.692  11067\n",
      "22           3.998  2.531  10658\n",
      "23           4.024  2.624   9443\n",
      "\n",
      "Coefficient of Variation by hour:\n",
      "                    cv\n",
      "pickup_hour           \n",
      "0            62.398374\n",
      "1            72.608361\n",
      "2            74.075962\n",
      "3            84.574468\n",
      "4            87.844579\n",
      "5            73.548208\n",
      "6            64.233773\n",
      "7            61.928185\n",
      "8            57.939820\n",
      "9            61.343658\n",
      "10           61.783439\n",
      "11           58.822297\n",
      "12           64.958477\n",
      "13           60.665281\n",
      "14           63.144654\n",
      "15           64.985226\n",
      "16           63.262195\n",
      "17           63.683640\n",
      "18           63.035442\n",
      "19           59.165727\n",
      "20           63.496205\n",
      "21           65.706615\n",
      "22           63.306653\n",
      "23           65.208748\n",
      "\n",
      "ANOVA test for hourly differences:\n",
      "F-statistic: 138.600, p-value: 0.000000\n",
      "✓ Significant evidence of dynamic pricing (p < 0.05)\n"
     ]
    }
   ],
   "source": [
    "from scipy import stats\n",
    "\n",
    "print(\"4. DYNAMIC PRICING ANALYSIS:\")\n",
    "print(\"-\" * 40)\n",
    "# Calculate fare per km\n",
    "df['fare_per_km'] = df['fare_amount'] / df['haversine_distance']\n",
    "\n",
    "# Remove infinite and extremely high values\n",
    "df_clean = df[(df['fare_per_km'] < 50) & (df['fare_per_km'] > 0)].copy()\n",
    "\n",
    "# Hourly fare per km analysis\n",
    "hourly_pricing = df_clean.groupby('pickup_hour')['fare_per_km'].agg(['mean', 'std', 'count']).round(3)\n",
    "print(\"Fare per km by hour:\")\n",
    "print(hourly_pricing)\n",
    "\n",
    "# Calculate coefficient of variation to measure pricing variance\n",
    "hourly_pricing['cv'] = (hourly_pricing['std'] / hourly_pricing['mean']) * 100\n",
    "print(f\"\\nCoefficient of Variation by hour:\")\n",
    "print(hourly_pricing[['cv']])\n",
    "\n",
    "# Statistical test for significant differences\n",
    "hour_groups = [df_clean[df_clean['pickup_hour'] == h]['fare_per_km'].values for h in range(24)]\n",
    "f_stat, p_value = stats.f_oneway(*hour_groups)\n",
    "print(f\"\\nANOVA test for hourly differences:\")\n",
    "print(f\"F-statistic: {f_stat:.3f}, p-value: {p_value:.6f}\")\n",
    "\n",
    "if p_value < 0.05:\n",
    "    print(\"✓ Significant evidence of dynamic pricing (p < 0.05)\")\n",
    "else:\n",
    "    print(\"✗ No significant evidence of dynamic pricing (p >= 0.05)\")"
   ]
  },
  {
   "cell_type": "code",
   "execution_count": 36,
   "id": "a6727175",
   "metadata": {},
   "outputs": [
    {
     "name": "stdout",
     "output_type": "stream",
     "text": [
      "\n",
      "\n",
      "5. FARE ANOMALIES AND OUTLIERS:\n",
      "----------------------------------------\n",
      "Total outliers detected: 17156 (8.6% of data)\n",
      "\n",
      "Outlier categories:\n",
      "Negative fares: 0\n",
      "Zero fares: 0\n",
      "Extremely high fares (>$100): 0\n",
      "Very low fare per km (<$1/km): 0.4% Rides\n",
      "Very high fare per km (>$20/km): 0.5% Rides\n",
      "\n",
      "Top 10 highest fares:\n",
      "      fare_amount  haversine_distance  fare_per_km  pickup_hour\n",
      "48           53.3            0.000000          inf           22\n",
      "401          53.3           20.109038     2.650549           14\n",
      "570          53.3           20.722016     2.572144            9\n",
      "610          53.3           20.722016     2.572144           16\n",
      "880          53.3           20.722016     2.572144           15\n",
      "966          53.3           19.491556     2.734517           10\n",
      "985          53.3           20.722016     2.572144           17\n",
      "1043         53.3           20.722016     2.572144           21\n",
      "1529         53.3           19.757357     2.697729           12\n",
      "1569         53.3           20.086848     2.653478            1\n",
      "\n",
      "Top 10 lowest positive fares:\n",
      "     fare_amount  haversine_distance  fare_per_km  pickup_hour\n",
      "7            3.3            0.000000          inf           13\n",
      "12           3.3            0.302252    10.918053           14\n",
      "44           3.3            0.385199     8.567007            0\n",
      "97           3.3            0.705920     4.674751            3\n",
      "191          3.3            0.444569     7.422921           20\n",
      "343          3.3            0.632958     5.213617            2\n",
      "382          3.3            0.282560    11.678954           17\n",
      "383          3.3            0.302311    10.915917           13\n",
      "901          3.3            0.389874     8.464269            3\n",
      "926          3.3            0.349924     9.430623           18\n"
     ]
    }
   ],
   "source": [
    "print(\"\\n\\n5. FARE ANOMALIES AND OUTLIERS:\")\n",
    "print(\"-\" * 40)\n",
    "\n",
    "# Statistical outlier detection using IQR method\n",
    "Q1 = df['fare_amount'].quantile(0.25)\n",
    "Q3 = df['fare_amount'].quantile(0.75)\n",
    "IQR = Q3 - Q1\n",
    "lower_bound = Q1 - 1.5 * IQR\n",
    "upper_bound = Q3 + 1.5 * IQR\n",
    "\n",
    "outliers = df[(df['fare_amount'] < lower_bound) | (df['fare_amount'] > upper_bound)]\n",
    "print(f\"Total outliers detected: {len(outliers)} ({len(outliers)/len(df)*100:.1f}% of data)\")\n",
    "\n",
    "# Fare anomalies by category\n",
    "print(\"\\nOutlier categories:\")\n",
    "print(f\"Negative fares: {len(df[df['fare_amount'] < 0])}\")\n",
    "print(f\"Zero fares: {len(df[df['fare_amount'] == 0])}\")\n",
    "print(f\"Extremely high fares (>$100): {len(df[df['fare_amount'] > 100])}\")\n",
    "print(f\"Very low fare per km (<$1/km): {len(df_clean[df_clean['fare_per_km'] < 1]) / len(df_clean) * 100:.1f}% Rides\")\n",
    "print(f\"Very high fare per km (>$20/km): {len(df_clean[df_clean['fare_per_km'] > 20]) / len(df_clean) * 100:.1f}% Rides\")\n",
    "\n",
    "# Top 10 highest and lowest fares\n",
    "print(\"\\nTop 10 highest fares:\")\n",
    "print(df.nlargest(10, 'fare_amount')[['fare_amount', 'haversine_distance', 'fare_per_km', 'pickup_hour']])\n",
    "\n",
    "print(\"\\nTop 10 lowest positive fares:\")\n",
    "print(df[df['fare_amount'] > 0].nsmallest(10, 'fare_amount')[['fare_amount', 'haversine_distance', 'fare_per_km', 'pickup_hour']])\n"
   ]
  },
  {
   "cell_type": "code",
   "execution_count": null,
   "id": "cd382422",
   "metadata": {},
   "outputs": [
    {
     "name": "stdout",
     "output_type": "stream",
     "text": [
      "\n",
      "\n",
      "6. PASSENGER COUNT PRICING ANALYSIS:\n",
      "----------------------------------------\n"
     ]
    },
    {
     "data": {
      "application/vnd.microsoft.datawrangler.viewer.v0+json": {
       "columns": [
        {
         "name": "passenger_count",
         "rawType": "int64",
         "type": "integer"
        },
        {
         "name": "('fare_amount', 'mean')",
         "rawType": "float64",
         "type": "float"
        },
        {
         "name": "('fare_amount', 'median')",
         "rawType": "float64",
         "type": "float"
        },
        {
         "name": "('fare_amount', 'std')",
         "rawType": "float64",
         "type": "float"
        },
        {
         "name": "('fare_amount', 'count')",
         "rawType": "int64",
         "type": "integer"
        },
        {
         "name": "('fare_per_passenger', 'mean')",
         "rawType": "float64",
         "type": "float"
        },
        {
         "name": "('fare_per_passenger', 'median')",
         "rawType": "float64",
         "type": "float"
        },
        {
         "name": "('fare_per_passenger', 'std')",
         "rawType": "float64",
         "type": "float"
        },
        {
         "name": "('haversine_distance', 'mean')",
         "rawType": "float64",
         "type": "float"
        }
       ],
       "ref": "1ba162ae-3c6a-4ad0-9ba5-b22f0831347f",
       "rows": [
        [
         "1",
         "11.13",
         "8.5",
         "8.93",
         "139134",
         "11.13",
         "8.5",
         "8.93",
         "3.25"
        ],
        [
         "2",
         "11.67",
         "8.5",
         "9.52",
         "29428",
         "5.83",
         "4.25",
         "4.76",
         "3.44"
        ],
        [
         "3",
         "11.38",
         "8.5",
         "9.14",
         "8881",
         "3.79",
         "2.83",
         "3.05",
         "3.32"
        ],
        [
         "4",
         "11.54",
         "8.5",
         "9.35",
         "4276",
         "2.88",
         "2.12",
         "2.34",
         "3.36"
        ],
        [
         "5",
         "11.15",
         "8.5",
         "8.94",
         "14009",
         "2.23",
         "1.7",
         "1.79",
         "3.27"
        ],
        [
         "6",
         "12.06",
         "9.0",
         "9.55",
         "4272",
         "2.01",
         "1.5",
         "1.59",
         "3.4"
        ]
       ],
       "shape": {
        "columns": 8,
        "rows": 6
       }
      },
      "text/html": [
       "<div>\n",
       "<style scoped>\n",
       "    .dataframe tbody tr th:only-of-type {\n",
       "        vertical-align: middle;\n",
       "    }\n",
       "\n",
       "    .dataframe tbody tr th {\n",
       "        vertical-align: top;\n",
       "    }\n",
       "\n",
       "    .dataframe thead tr th {\n",
       "        text-align: left;\n",
       "    }\n",
       "\n",
       "    .dataframe thead tr:last-of-type th {\n",
       "        text-align: right;\n",
       "    }\n",
       "</style>\n",
       "<table border=\"1\" class=\"dataframe\">\n",
       "  <thead>\n",
       "    <tr>\n",
       "      <th></th>\n",
       "      <th colspan=\"4\" halign=\"left\">fare_amount</th>\n",
       "      <th colspan=\"3\" halign=\"left\">fare_per_passenger</th>\n",
       "      <th>haversine_distance</th>\n",
       "    </tr>\n",
       "    <tr>\n",
       "      <th></th>\n",
       "      <th>mean</th>\n",
       "      <th>median</th>\n",
       "      <th>std</th>\n",
       "      <th>count</th>\n",
       "      <th>mean</th>\n",
       "      <th>median</th>\n",
       "      <th>std</th>\n",
       "      <th>mean</th>\n",
       "    </tr>\n",
       "    <tr>\n",
       "      <th>passenger_count</th>\n",
       "      <th></th>\n",
       "      <th></th>\n",
       "      <th></th>\n",
       "      <th></th>\n",
       "      <th></th>\n",
       "      <th></th>\n",
       "      <th></th>\n",
       "      <th></th>\n",
       "    </tr>\n",
       "  </thead>\n",
       "  <tbody>\n",
       "    <tr>\n",
       "      <th>1</th>\n",
       "      <td>11.13</td>\n",
       "      <td>8.5</td>\n",
       "      <td>8.93</td>\n",
       "      <td>139134</td>\n",
       "      <td>11.13</td>\n",
       "      <td>8.50</td>\n",
       "      <td>8.93</td>\n",
       "      <td>3.25</td>\n",
       "    </tr>\n",
       "    <tr>\n",
       "      <th>2</th>\n",
       "      <td>11.67</td>\n",
       "      <td>8.5</td>\n",
       "      <td>9.52</td>\n",
       "      <td>29428</td>\n",
       "      <td>5.83</td>\n",
       "      <td>4.25</td>\n",
       "      <td>4.76</td>\n",
       "      <td>3.44</td>\n",
       "    </tr>\n",
       "    <tr>\n",
       "      <th>3</th>\n",
       "      <td>11.38</td>\n",
       "      <td>8.5</td>\n",
       "      <td>9.14</td>\n",
       "      <td>8881</td>\n",
       "      <td>3.79</td>\n",
       "      <td>2.83</td>\n",
       "      <td>3.05</td>\n",
       "      <td>3.32</td>\n",
       "    </tr>\n",
       "    <tr>\n",
       "      <th>4</th>\n",
       "      <td>11.54</td>\n",
       "      <td>8.5</td>\n",
       "      <td>9.35</td>\n",
       "      <td>4276</td>\n",
       "      <td>2.88</td>\n",
       "      <td>2.12</td>\n",
       "      <td>2.34</td>\n",
       "      <td>3.36</td>\n",
       "    </tr>\n",
       "    <tr>\n",
       "      <th>5</th>\n",
       "      <td>11.15</td>\n",
       "      <td>8.5</td>\n",
       "      <td>8.94</td>\n",
       "      <td>14009</td>\n",
       "      <td>2.23</td>\n",
       "      <td>1.70</td>\n",
       "      <td>1.79</td>\n",
       "      <td>3.27</td>\n",
       "    </tr>\n",
       "    <tr>\n",
       "      <th>6</th>\n",
       "      <td>12.06</td>\n",
       "      <td>9.0</td>\n",
       "      <td>9.55</td>\n",
       "      <td>4272</td>\n",
       "      <td>2.01</td>\n",
       "      <td>1.50</td>\n",
       "      <td>1.59</td>\n",
       "      <td>3.40</td>\n",
       "    </tr>\n",
       "  </tbody>\n",
       "</table>\n",
       "</div>"
      ],
      "text/plain": [
       "                fare_amount                      fare_per_passenger         \\\n",
       "                       mean median   std   count               mean median   \n",
       "passenger_count                                                              \n",
       "1                     11.13    8.5  8.93  139134              11.13   8.50   \n",
       "2                     11.67    8.5  9.52   29428               5.83   4.25   \n",
       "3                     11.38    8.5  9.14    8881               3.79   2.83   \n",
       "4                     11.54    8.5  9.35    4276               2.88   2.12   \n",
       "5                     11.15    8.5  8.94   14009               2.23   1.70   \n",
       "6                     12.06    9.0  9.55    4272               2.01   1.50   \n",
       "\n",
       "                      haversine_distance  \n",
       "                  std               mean  \n",
       "passenger_count                           \n",
       "1                8.93               3.25  \n",
       "2                4.76               3.44  \n",
       "3                3.05               3.32  \n",
       "4                2.34               3.36  \n",
       "5                1.79               3.27  \n",
       "6                1.59               3.40  "
      ]
     },
     "execution_count": 40,
     "metadata": {},
     "output_type": "execute_result"
    }
   ],
   "source": [
    "print(\"\\n\\n6. PASSENGER COUNT PRICING ANALYSIS:\")\n",
    "print(\"-\" * 40)\n",
    "\n",
    "# Per-passenger fare analysis\n",
    "passenger_pricing = df.groupby('passenger_count').agg({\n",
    "    'fare_amount': ['mean', 'median', 'std', 'count'],\n",
    "    'fare_per_passenger': ['mean', 'median', 'std'],\n",
    "    'haversine_distance': ['mean']\n",
    "}).round(2)\n",
    "\n",
    "# Pricing by Passenger count\n",
    "passenger_pricing"
   ]
  },
  {
   "cell_type": "code",
   "execution_count": 44,
   "id": "7e478847",
   "metadata": {},
   "outputs": [
    {
     "name": "stdout",
     "output_type": "stream",
     "text": [
      "\n",
      "ANOVA test for per-passenger fare differences:\n",
      "F-statistic: 7314.513, p-value: 0.000000\n",
      "\n",
      "Pricing efficiency analysis:\n",
      "Passenger Count 1: Total $11.13, Per-passenger $11.13\n",
      "Passenger Count 2: Total $11.67, Per-passenger $5.83\n",
      "Passenger Count 3: Total $11.38, Per-passenger $3.79\n",
      "Passenger Count 4: Total $11.54, Per-passenger $2.88\n",
      "Passenger Count 5: Total $11.15, Per-passenger $2.23\n",
      "Passenger Count 6: Total $12.06, Per-passenger $2.01\n"
     ]
    }
   ],
   "source": [
    "# Test for significant differences in per-passenger pricing\n",
    "passenger_groups = [df[df['passenger_count'] == p]['fare_per_passenger'].values \n",
    "                   for p in df['passenger_count'].unique() if not pd.isna(p)]\n",
    "f_stat_passenger, p_value_passenger = stats.f_oneway(*passenger_groups)\n",
    "\n",
    "print(f\"\\nANOVA test for per-passenger fare differences:\")\n",
    "print(f\"F-statistic: {f_stat_passenger:.3f}, p-value: {p_value_passenger:.6f}\")\n",
    "\n",
    "# Calculate pricing efficiency\n",
    "print(\"\\nPricing efficiency analysis:\")\n",
    "for pc in sorted(df['passenger_count'].unique()):\n",
    "    if not pd.isna(pc) and pc > 0:\n",
    "        subset = df[df['passenger_count'] == pc]\n",
    "        avg_total_fare = subset['fare_amount'].mean()\n",
    "        avg_per_passenger = subset['fare_per_passenger'].mean()\n",
    "        print(f\"Passenger Count {int(pc)}: Total ${avg_total_fare:.2f}, Per-passenger ${avg_per_passenger:.2f}\")"
   ]
  },
  {
   "cell_type": "code",
   "execution_count": 45,
   "id": "c887c0a9",
   "metadata": {},
   "outputs": [
    {
     "name": "stderr",
     "output_type": "stream",
     "text": [
      "/tmp/ipykernel_6919/1335567392.py:27: MatplotlibDeprecationWarning:\n",
      "\n",
      "The 'labels' parameter of boxplot() has been renamed 'tick_labels' since Matplotlib 3.9; support for the old name will be dropped in 3.11.\n",
      "\n"
     ]
    },
    {
     "data": {
      "image/png": "[encoded data removed]",
      "text/plain": [
       "<Figure size 1600x1200 with 4 Axes>"
      ]
     },
     "metadata": {},
     "output_type": "display_data"
    },
    {
     "name": "stdout",
     "output_type": "stream",
     "text": [
      "\n",
      "============================================================\n",
      "PRICING INSIGHTS SUMMARY:\n",
      "============================================================\n",
      "• Dynamic Pricing: Evidence found\n",
      "• Outliers: 8.6% of trips are statistical outliers\n",
      "• Peak fare/km hour: 12:00 ($4.94/km)\n",
      "• Lowest fare/km hour: 5:00 ($3.60/km)\n",
      "• Per-passenger pricing varies significantly: Yes\n"
     ]
    }
   ],
   "source": [
    "# VISUALIZATION OF PRICING INSIGHTS\n",
    "fig, axes = plt.subplots(2, 2, figsize=(16, 12))\n",
    "fig.suptitle('Uber Pricing Insights Analysis', fontsize=16, fontweight='bold')\n",
    "\n",
    "# 1. Fare per km by hour (Dynamic Pricing)\n",
    "hourly_avg = df_clean.groupby('pickup_hour')['fare_per_km'].mean()\n",
    "axes[0,0].plot(hourly_avg.index, hourly_avg.values, marker='o', linewidth=2, markersize=6, color='red')\n",
    "axes[0,0].set_title('Dynamic Pricing Evidence: Fare per km by Hour')\n",
    "axes[0,0].set_xlabel('Hour of Day')\n",
    "axes[0,0].set_ylabel('Average Fare per km ($)')\n",
    "axes[0,0].grid(True, alpha=0.3)\n",
    "axes[0,0].set_xticks(range(0, 24, 2))\n",
    "\n",
    "# 2. Fare distribution with outliers\n",
    "axes[0,1].hist(df['fare_amount'], bins=50, alpha=0.7, color='skyblue', edgecolor='black')\n",
    "axes[0,1].axvline(upper_bound, color='red', linestyle='--', label=f'Upper Outlier Threshold: ${upper_bound:.1f}')\n",
    "axes[0,1].set_title('Fare Distribution with Outlier Threshold')\n",
    "axes[0,1].set_xlabel('Fare Amount ($)')\n",
    "axes[0,1].set_ylabel('Frequency')\n",
    "axes[0,1].legend()\n",
    "axes[0,1].set_xlim(0, 100)  # Focus on main distribution\n",
    "\n",
    "# 3. Box plot of fare per passenger by passenger count\n",
    "passenger_data = [df[df['passenger_count'] == pc]['fare_per_passenger'].values \n",
    "                 for pc in sorted(df['passenger_count'].unique()) if not pd.isna(pc)]\n",
    "passenger_labels = [f'{int(pc)}' for pc in sorted(df['passenger_count'].unique()) if not pd.isna(pc)]\n",
    "axes[1,0].boxplot(passenger_data, labels=passenger_labels)\n",
    "axes[1,0].set_title('Fare per Passenger by Passenger Count')\n",
    "axes[1,0].set_xlabel('Passenger Count')\n",
    "axes[1,0].set_ylabel('Fare per Passenger ($)')\n",
    "axes[1,0].grid(True, alpha=0.3)\n",
    "\n",
    "# 4. Fare per km distribution\n",
    "axes[1,1].hist(df_clean['fare_per_km'], bins=50, alpha=0.7, color='orange', edgecolor='black')\n",
    "axes[1,1].set_title('Fare per km Distribution')\n",
    "axes[1,1].set_xlabel('Fare per km ($)')\n",
    "axes[1,1].set_ylabel('Frequency')\n",
    "axes[1,1].grid(True, alpha=0.3)\n",
    "axes[1,1].set_xlim(0, 25)\n",
    "\n",
    "plt.tight_layout()\n",
    "plt.show()\n",
    "\n",
    "# Summary insights\n",
    "print(\"\\n\" + \"=\"*60)\n",
    "print(\"PRICING INSIGHTS SUMMARY:\")\n",
    "print(\"=\"*60)\n",
    "print(f\"• Dynamic Pricing: {'Evidence found' if p_value < 0.05 else 'No clear evidence'}\")\n",
    "print(f\"• Outliers: {len(outliers)/len(df)*100:.1f}% of trips are statistical outliers\")\n",
    "print(f\"• Peak fare/km hour: {hourly_avg.idxmax()}:00 (${hourly_avg.max():.2f}/km)\")\n",
    "print(f\"• Lowest fare/km hour: {hourly_avg.idxmin()}:00 (${hourly_avg.min():.2f}/km)\")\n",
    "print(f\"• Per-passenger pricing varies significantly: {'Yes' if p_value_passenger < 0.05 else 'No'}\")"
   ]
  },
  {
   "cell_type": "markdown",
   "id": "871419c3",
   "metadata": {},
   "source": [
    "## Operational Patterns\n",
    "8. What's the geographic distribution of pickups?\n",
    "9. Are there seasonal trends in ridership/fares?\n",
    "10. Which trip categories (short/long) dominate?"
   ]
  },
  {
   "cell_type": "code",
   "execution_count": null,
   "id": "87453793",
   "metadata": {},
   "outputs": [],
   "source": []
  }
 ],
 "metadata": {
  "kernelspec": {
   "display_name": ".venv",
   "language": "python",
   "name": "python3"
  },
  "language_info": {
   "codemirror_mode": {
    "name": "ipython",
    "version": 3
   },
   "file_extension": ".py",
   "mimetype": "text/x-python",
   "name": "python",
   "nbconvert_exporter": "python",
   "pygments_lexer": "ipython3",
   "version": "3.12.3"
  }
 },
 "nbformat": 4,
 "nbformat_minor": 5
}
